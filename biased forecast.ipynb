{
  "nbformat": 4,
  "nbformat_minor": 0,
  "metadata": {
    "colab": {
      "provenance": []
    },
    "kernelspec": {
      "name": "python3",
      "display_name": "Python 3"
    },
    "language_info": {
      "name": "python"
    },
    "widgets": {
      "application/vnd.jupyter.widget-state+json": {
        "2137f375165c47768c598fc57d90acf5": {
          "model_module": "@jupyter-widgets/controls",
          "model_name": "HBoxModel",
          "model_module_version": "1.5.0",
          "state": {
            "_dom_classes": [],
            "_model_module": "@jupyter-widgets/controls",
            "_model_module_version": "1.5.0",
            "_model_name": "HBoxModel",
            "_view_count": null,
            "_view_module": "@jupyter-widgets/controls",
            "_view_module_version": "1.5.0",
            "_view_name": "HBoxView",
            "box_style": "",
            "children": [
              "IPY_MODEL_fd95c43c1117461f9e370579ed73beff",
              "IPY_MODEL_3d657c44dbb74548828092ed27ffa227",
              "IPY_MODEL_bf9c7fae03714eeba7623fa74571a3e2"
            ],
            "layout": "IPY_MODEL_6605a2ac21334be39aad1e5d6fcda6e1"
          }
        },
        "fd95c43c1117461f9e370579ed73beff": {
          "model_module": "@jupyter-widgets/controls",
          "model_name": "HTMLModel",
          "model_module_version": "1.5.0",
          "state": {
            "_dom_classes": [],
            "_model_module": "@jupyter-widgets/controls",
            "_model_module_version": "1.5.0",
            "_model_name": "HTMLModel",
            "_view_count": null,
            "_view_module": "@jupyter-widgets/controls",
            "_view_module_version": "1.5.0",
            "_view_name": "HTMLView",
            "description": "",
            "description_tooltip": null,
            "layout": "IPY_MODEL_03e9b6f79f8f435a8acb8ef9899dc395",
            "placeholder": "​",
            "style": "IPY_MODEL_98aeee85b3574ae696fed7c513b3af95",
            "value": "Reading stocks: "
          }
        },
        "3d657c44dbb74548828092ed27ffa227": {
          "model_module": "@jupyter-widgets/controls",
          "model_name": "FloatProgressModel",
          "model_module_version": "1.5.0",
          "state": {
            "_dom_classes": [],
            "_model_module": "@jupyter-widgets/controls",
            "_model_module_version": "1.5.0",
            "_model_name": "FloatProgressModel",
            "_view_count": null,
            "_view_module": "@jupyter-widgets/controls",
            "_view_module_version": "1.5.0",
            "_view_name": "ProgressView",
            "bar_style": "success",
            "description": "",
            "description_tooltip": null,
            "layout": "IPY_MODEL_c0446baf2f554887abadd750f4ae85ad",
            "max": 1,
            "min": 0,
            "orientation": "horizontal",
            "style": "IPY_MODEL_cf7c16308f87414f938d3ce59e3ced26",
            "value": 1
          }
        },
        "bf9c7fae03714eeba7623fa74571a3e2": {
          "model_module": "@jupyter-widgets/controls",
          "model_name": "HTMLModel",
          "model_module_version": "1.5.0",
          "state": {
            "_dom_classes": [],
            "_model_module": "@jupyter-widgets/controls",
            "_model_module_version": "1.5.0",
            "_model_name": "HTMLModel",
            "_view_count": null,
            "_view_module": "@jupyter-widgets/controls",
            "_view_module_version": "1.5.0",
            "_view_name": "HTMLView",
            "description": "",
            "description_tooltip": null,
            "layout": "IPY_MODEL_bc2353ba4e704c4abae57037c4ab31a8",
            "placeholder": "​",
            "style": "IPY_MODEL_0e091daaa8194712ae7d1ab71a22d944",
            "value": " 759/? [00:33&lt;00:00, 23.45it/s]"
          }
        },
        "6605a2ac21334be39aad1e5d6fcda6e1": {
          "model_module": "@jupyter-widgets/base",
          "model_name": "LayoutModel",
          "model_module_version": "1.2.0",
          "state": {
            "_model_module": "@jupyter-widgets/base",
            "_model_module_version": "1.2.0",
            "_model_name": "LayoutModel",
            "_view_count": null,
            "_view_module": "@jupyter-widgets/base",
            "_view_module_version": "1.2.0",
            "_view_name": "LayoutView",
            "align_content": null,
            "align_items": null,
            "align_self": null,
            "border": null,
            "bottom": null,
            "display": null,
            "flex": null,
            "flex_flow": null,
            "grid_area": null,
            "grid_auto_columns": null,
            "grid_auto_flow": null,
            "grid_auto_rows": null,
            "grid_column": null,
            "grid_gap": null,
            "grid_row": null,
            "grid_template_areas": null,
            "grid_template_columns": null,
            "grid_template_rows": null,
            "height": null,
            "justify_content": null,
            "justify_items": null,
            "left": null,
            "margin": null,
            "max_height": null,
            "max_width": null,
            "min_height": null,
            "min_width": null,
            "object_fit": null,
            "object_position": null,
            "order": null,
            "overflow": null,
            "overflow_x": null,
            "overflow_y": null,
            "padding": null,
            "right": null,
            "top": null,
            "visibility": null,
            "width": null
          }
        },
        "03e9b6f79f8f435a8acb8ef9899dc395": {
          "model_module": "@jupyter-widgets/base",
          "model_name": "LayoutModel",
          "model_module_version": "1.2.0",
          "state": {
            "_model_module": "@jupyter-widgets/base",
            "_model_module_version": "1.2.0",
            "_model_name": "LayoutModel",
            "_view_count": null,
            "_view_module": "@jupyter-widgets/base",
            "_view_module_version": "1.2.0",
            "_view_name": "LayoutView",
            "align_content": null,
            "align_items": null,
            "align_self": null,
            "border": null,
            "bottom": null,
            "display": null,
            "flex": null,
            "flex_flow": null,
            "grid_area": null,
            "grid_auto_columns": null,
            "grid_auto_flow": null,
            "grid_auto_rows": null,
            "grid_column": null,
            "grid_gap": null,
            "grid_row": null,
            "grid_template_areas": null,
            "grid_template_columns": null,
            "grid_template_rows": null,
            "height": null,
            "justify_content": null,
            "justify_items": null,
            "left": null,
            "margin": null,
            "max_height": null,
            "max_width": null,
            "min_height": null,
            "min_width": null,
            "object_fit": null,
            "object_position": null,
            "order": null,
            "overflow": null,
            "overflow_x": null,
            "overflow_y": null,
            "padding": null,
            "right": null,
            "top": null,
            "visibility": null,
            "width": null
          }
        },
        "98aeee85b3574ae696fed7c513b3af95": {
          "model_module": "@jupyter-widgets/controls",
          "model_name": "DescriptionStyleModel",
          "model_module_version": "1.5.0",
          "state": {
            "_model_module": "@jupyter-widgets/controls",
            "_model_module_version": "1.5.0",
            "_model_name": "DescriptionStyleModel",
            "_view_count": null,
            "_view_module": "@jupyter-widgets/base",
            "_view_module_version": "1.2.0",
            "_view_name": "StyleView",
            "description_width": ""
          }
        },
        "c0446baf2f554887abadd750f4ae85ad": {
          "model_module": "@jupyter-widgets/base",
          "model_name": "LayoutModel",
          "model_module_version": "1.2.0",
          "state": {
            "_model_module": "@jupyter-widgets/base",
            "_model_module_version": "1.2.0",
            "_model_name": "LayoutModel",
            "_view_count": null,
            "_view_module": "@jupyter-widgets/base",
            "_view_module_version": "1.2.0",
            "_view_name": "LayoutView",
            "align_content": null,
            "align_items": null,
            "align_self": null,
            "border": null,
            "bottom": null,
            "display": null,
            "flex": null,
            "flex_flow": null,
            "grid_area": null,
            "grid_auto_columns": null,
            "grid_auto_flow": null,
            "grid_auto_rows": null,
            "grid_column": null,
            "grid_gap": null,
            "grid_row": null,
            "grid_template_areas": null,
            "grid_template_columns": null,
            "grid_template_rows": null,
            "height": null,
            "justify_content": null,
            "justify_items": null,
            "left": null,
            "margin": null,
            "max_height": null,
            "max_width": null,
            "min_height": null,
            "min_width": null,
            "object_fit": null,
            "object_position": null,
            "order": null,
            "overflow": null,
            "overflow_x": null,
            "overflow_y": null,
            "padding": null,
            "right": null,
            "top": null,
            "visibility": null,
            "width": "20px"
          }
        },
        "cf7c16308f87414f938d3ce59e3ced26": {
          "model_module": "@jupyter-widgets/controls",
          "model_name": "ProgressStyleModel",
          "model_module_version": "1.5.0",
          "state": {
            "_model_module": "@jupyter-widgets/controls",
            "_model_module_version": "1.5.0",
            "_model_name": "ProgressStyleModel",
            "_view_count": null,
            "_view_module": "@jupyter-widgets/base",
            "_view_module_version": "1.2.0",
            "_view_name": "StyleView",
            "bar_color": null,
            "description_width": ""
          }
        },
        "bc2353ba4e704c4abae57037c4ab31a8": {
          "model_module": "@jupyter-widgets/base",
          "model_name": "LayoutModel",
          "model_module_version": "1.2.0",
          "state": {
            "_model_module": "@jupyter-widgets/base",
            "_model_module_version": "1.2.0",
            "_model_name": "LayoutModel",
            "_view_count": null,
            "_view_module": "@jupyter-widgets/base",
            "_view_module_version": "1.2.0",
            "_view_name": "LayoutView",
            "align_content": null,
            "align_items": null,
            "align_self": null,
            "border": null,
            "bottom": null,
            "display": null,
            "flex": null,
            "flex_flow": null,
            "grid_area": null,
            "grid_auto_columns": null,
            "grid_auto_flow": null,
            "grid_auto_rows": null,
            "grid_column": null,
            "grid_gap": null,
            "grid_row": null,
            "grid_template_areas": null,
            "grid_template_columns": null,
            "grid_template_rows": null,
            "height": null,
            "justify_content": null,
            "justify_items": null,
            "left": null,
            "margin": null,
            "max_height": null,
            "max_width": null,
            "min_height": null,
            "min_width": null,
            "object_fit": null,
            "object_position": null,
            "order": null,
            "overflow": null,
            "overflow_x": null,
            "overflow_y": null,
            "padding": null,
            "right": null,
            "top": null,
            "visibility": null,
            "width": null
          }
        },
        "0e091daaa8194712ae7d1ab71a22d944": {
          "model_module": "@jupyter-widgets/controls",
          "model_name": "DescriptionStyleModel",
          "model_module_version": "1.5.0",
          "state": {
            "_model_module": "@jupyter-widgets/controls",
            "_model_module_version": "1.5.0",
            "_model_name": "DescriptionStyleModel",
            "_view_count": null,
            "_view_module": "@jupyter-widgets/base",
            "_view_module_version": "1.2.0",
            "_view_name": "StyleView",
            "description_width": ""
          }
        }
      }
    }
  },
  "cells": [
    {
      "cell_type": "code",
      "execution_count": 1,
      "metadata": {
        "id": "YWznwEAcO0u5"
      },
      "outputs": [],
      "source": [
        "!pip install --user --quiet tensorflow gensim"
      ]
    },
    {
      "cell_type": "code",
      "source": [
        "! pip install --quiet kaggle\n",
        "! mkdir ~/.kaggle\n",
        "! echo \"{\\\"username\\\":\\\"tupoylogin\\\",\\\"key\\\":\\\"290a55772726b66c496aa74ea7bc8a1f\\\"}\" > ~/.kaggle/kaggle.json\n",
        "! chmod 600 ~/.kaggle/kaggle.json\n",
        "! kaggle datasets download -d utkarshxy/stock-markettweets-lexicon-data "
      ],
      "metadata": {
        "colab": {
          "base_uri": "https://localhost:8080/"
        },
        "id": "6e9sfANlQC8y",
        "outputId": "d73554c6-259d-4a99-fbf8-dc73a2dc8c7d"
      },
      "execution_count": 2,
      "outputs": [
        {
          "output_type": "stream",
          "name": "stdout",
          "text": [
            "Downloading stock-markettweets-lexicon-data.zip to /content\n",
            " 97% 56.0M/57.5M [00:01<00:00, 32.1MB/s]\n",
            "100% 57.5M/57.5M [00:01<00:00, 36.3MB/s]\n"
          ]
        }
      ]
    },
    {
      "cell_type": "code",
      "source": [
        "! mkdir train\n",
        "! unzip stock-markettweets-lexicon-data.zip -d train"
      ],
      "metadata": {
        "colab": {
          "base_uri": "https://localhost:8080/"
        },
        "id": "1jS7UY7cQGH6",
        "outputId": "f808fd91-e2a5-4eaf-c555-83af47ecc0d7"
      },
      "execution_count": 4,
      "outputs": [
        {
          "output_type": "stream",
          "name": "stdout",
          "text": [
            "Archive:  stock-markettweets-lexicon-data.zip\n",
            "  inflating: train/tweets_labelled_09042020_16072020.csv  \n",
            "  inflating: train/tweets_remaining_09042020_16072020.csv  \n"
          ]
        }
      ]
    },
    {
      "cell_type": "code",
      "source": [
        "import tensorflow as tf\n",
        "import numpy as np\n",
        "from gensim.models import Word2Vec"
      ],
      "metadata": {
        "id": "a38LqdHpPT49"
      },
      "execution_count": 3,
      "outputs": []
    },
    {
      "cell_type": "code",
      "source": [
        "import gensim.downloader as api\n",
        "\n",
        "twitter_vectors = api.load('glove-twitter-100')"
      ],
      "metadata": {
        "colab": {
          "base_uri": "https://localhost:8080/",
          "height": 358
        },
        "id": "EkRY9EuL1r2z",
        "outputId": "df708810-7c20-4205-d59d-80352b6597de"
      },
      "execution_count": 5,
      "outputs": [
        {
          "output_type": "stream",
          "name": "stdout",
          "text": [
            "[=-------------------------------------------------] 2.1% 8.1/387.1MB downloaded"
          ]
        },
        {
          "output_type": "error",
          "ename": "KeyboardInterrupt",
          "evalue": "ignored",
          "traceback": [
            "\u001b[0;31m---------------------------------------------------------------------------\u001b[0m",
            "\u001b[0;31mKeyboardInterrupt\u001b[0m                         Traceback (most recent call last)",
            "\u001b[0;32m<ipython-input-5-4e92cfc5e571>\u001b[0m in \u001b[0;36m<module>\u001b[0;34m\u001b[0m\n\u001b[1;32m      1\u001b[0m \u001b[0;32mimport\u001b[0m \u001b[0mgensim\u001b[0m\u001b[0;34m.\u001b[0m\u001b[0mdownloader\u001b[0m \u001b[0;32mas\u001b[0m \u001b[0mapi\u001b[0m\u001b[0;34m\u001b[0m\u001b[0;34m\u001b[0m\u001b[0m\n\u001b[1;32m      2\u001b[0m \u001b[0;34m\u001b[0m\u001b[0m\n\u001b[0;32m----> 3\u001b[0;31m \u001b[0mtwitter_vectors\u001b[0m \u001b[0;34m=\u001b[0m \u001b[0mapi\u001b[0m\u001b[0;34m.\u001b[0m\u001b[0mload\u001b[0m\u001b[0;34m(\u001b[0m\u001b[0;34m'glove-twitter-100'\u001b[0m\u001b[0;34m)\u001b[0m\u001b[0;34m\u001b[0m\u001b[0;34m\u001b[0m\u001b[0m\n\u001b[0m",
            "\u001b[0;32m/usr/local/lib/python3.9/dist-packages/gensim/downloader.py\u001b[0m in \u001b[0;36mload\u001b[0;34m(name, return_path)\u001b[0m\n\u001b[1;32m    415\u001b[0m     \u001b[0mpath\u001b[0m \u001b[0;34m=\u001b[0m \u001b[0mos\u001b[0m\u001b[0;34m.\u001b[0m\u001b[0mpath\u001b[0m\u001b[0;34m.\u001b[0m\u001b[0mjoin\u001b[0m\u001b[0;34m(\u001b[0m\u001b[0mfolder_dir\u001b[0m\u001b[0;34m,\u001b[0m \u001b[0mfile_name\u001b[0m\u001b[0;34m)\u001b[0m\u001b[0;34m\u001b[0m\u001b[0;34m\u001b[0m\u001b[0m\n\u001b[1;32m    416\u001b[0m     \u001b[0;32mif\u001b[0m \u001b[0;32mnot\u001b[0m \u001b[0mos\u001b[0m\u001b[0;34m.\u001b[0m\u001b[0mpath\u001b[0m\u001b[0;34m.\u001b[0m\u001b[0mexists\u001b[0m\u001b[0;34m(\u001b[0m\u001b[0mfolder_dir\u001b[0m\u001b[0;34m)\u001b[0m\u001b[0;34m:\u001b[0m\u001b[0;34m\u001b[0m\u001b[0;34m\u001b[0m\u001b[0m\n\u001b[0;32m--> 417\u001b[0;31m         \u001b[0m_download\u001b[0m\u001b[0;34m(\u001b[0m\u001b[0mname\u001b[0m\u001b[0;34m)\u001b[0m\u001b[0;34m\u001b[0m\u001b[0;34m\u001b[0m\u001b[0m\n\u001b[0m\u001b[1;32m    418\u001b[0m \u001b[0;34m\u001b[0m\u001b[0m\n\u001b[1;32m    419\u001b[0m     \u001b[0;32mif\u001b[0m \u001b[0mreturn_path\u001b[0m\u001b[0;34m:\u001b[0m\u001b[0;34m\u001b[0m\u001b[0;34m\u001b[0m\u001b[0m\n",
            "\u001b[0;32m/usr/local/lib/python3.9/dist-packages/gensim/downloader.py\u001b[0m in \u001b[0;36m_download\u001b[0;34m(name)\u001b[0m\n\u001b[1;32m    322\u001b[0m         \u001b[0mfname\u001b[0m \u001b[0;34m=\u001b[0m \u001b[0;34m\"{fname}.gz\"\u001b[0m\u001b[0;34m.\u001b[0m\u001b[0mformat\u001b[0m\u001b[0;34m(\u001b[0m\u001b[0mfname\u001b[0m\u001b[0;34m=\u001b[0m\u001b[0mname\u001b[0m\u001b[0;34m)\u001b[0m\u001b[0;34m\u001b[0m\u001b[0;34m\u001b[0m\u001b[0m\n\u001b[1;32m    323\u001b[0m         \u001b[0mdst_path\u001b[0m \u001b[0;34m=\u001b[0m \u001b[0mos\u001b[0m\u001b[0;34m.\u001b[0m\u001b[0mpath\u001b[0m\u001b[0;34m.\u001b[0m\u001b[0mjoin\u001b[0m\u001b[0;34m(\u001b[0m\u001b[0mtmp_dir\u001b[0m\u001b[0;34m,\u001b[0m \u001b[0mfname\u001b[0m\u001b[0;34m)\u001b[0m\u001b[0;34m\u001b[0m\u001b[0;34m\u001b[0m\u001b[0m\n\u001b[0;32m--> 324\u001b[0;31m         \u001b[0murllib\u001b[0m\u001b[0;34m.\u001b[0m\u001b[0murlretrieve\u001b[0m\u001b[0;34m(\u001b[0m\u001b[0murl_data\u001b[0m\u001b[0;34m,\u001b[0m \u001b[0mdst_path\u001b[0m\u001b[0;34m,\u001b[0m \u001b[0mreporthook\u001b[0m\u001b[0;34m=\u001b[0m\u001b[0m_progress\u001b[0m\u001b[0;34m)\u001b[0m\u001b[0;34m\u001b[0m\u001b[0;34m\u001b[0m\u001b[0m\n\u001b[0m\u001b[1;32m    325\u001b[0m         \u001b[0;32mif\u001b[0m \u001b[0m_calculate_md5_checksum\u001b[0m\u001b[0;34m(\u001b[0m\u001b[0mdst_path\u001b[0m\u001b[0;34m)\u001b[0m \u001b[0;34m==\u001b[0m \u001b[0m_get_checksum\u001b[0m\u001b[0;34m(\u001b[0m\u001b[0mname\u001b[0m\u001b[0;34m)\u001b[0m\u001b[0;34m:\u001b[0m\u001b[0;34m\u001b[0m\u001b[0;34m\u001b[0m\u001b[0m\n\u001b[1;32m    326\u001b[0m             \u001b[0msys\u001b[0m\u001b[0;34m.\u001b[0m\u001b[0mstdout\u001b[0m\u001b[0;34m.\u001b[0m\u001b[0mwrite\u001b[0m\u001b[0;34m(\u001b[0m\u001b[0;34m\"\\n\"\u001b[0m\u001b[0;34m)\u001b[0m\u001b[0;34m\u001b[0m\u001b[0;34m\u001b[0m\u001b[0m\n",
            "\u001b[0;32m/usr/lib/python3.9/urllib/request.py\u001b[0m in \u001b[0;36murlretrieve\u001b[0;34m(url, filename, reporthook, data)\u001b[0m\n\u001b[1;32m    273\u001b[0m                 \u001b[0mblocknum\u001b[0m \u001b[0;34m+=\u001b[0m \u001b[0;36m1\u001b[0m\u001b[0;34m\u001b[0m\u001b[0;34m\u001b[0m\u001b[0m\n\u001b[1;32m    274\u001b[0m                 \u001b[0;32mif\u001b[0m \u001b[0mreporthook\u001b[0m\u001b[0;34m:\u001b[0m\u001b[0;34m\u001b[0m\u001b[0;34m\u001b[0m\u001b[0m\n\u001b[0;32m--> 275\u001b[0;31m                     \u001b[0mreporthook\u001b[0m\u001b[0;34m(\u001b[0m\u001b[0mblocknum\u001b[0m\u001b[0;34m,\u001b[0m \u001b[0mbs\u001b[0m\u001b[0;34m,\u001b[0m \u001b[0msize\u001b[0m\u001b[0;34m)\u001b[0m\u001b[0;34m\u001b[0m\u001b[0;34m\u001b[0m\u001b[0m\n\u001b[0m\u001b[1;32m    276\u001b[0m \u001b[0;34m\u001b[0m\u001b[0m\n\u001b[1;32m    277\u001b[0m     \u001b[0;32mif\u001b[0m \u001b[0msize\u001b[0m \u001b[0;34m>=\u001b[0m \u001b[0;36m0\u001b[0m \u001b[0;32mand\u001b[0m \u001b[0mread\u001b[0m \u001b[0;34m<\u001b[0m \u001b[0msize\u001b[0m\u001b[0;34m:\u001b[0m\u001b[0;34m\u001b[0m\u001b[0;34m\u001b[0m\u001b[0m\n",
            "\u001b[0;32m/usr/local/lib/python3.9/dist-packages/gensim/downloader.py\u001b[0m in \u001b[0;36m_progress\u001b[0;34m(chunks_downloaded, chunk_size, total_size, part, total_parts)\u001b[0m\n\u001b[1;32m     96\u001b[0m                 round(float(total_size) / (1024 * 1024), 1))\n\u001b[1;32m     97\u001b[0m         )\n\u001b[0;32m---> 98\u001b[0;31m         \u001b[0msys\u001b[0m\u001b[0;34m.\u001b[0m\u001b[0mstdout\u001b[0m\u001b[0;34m.\u001b[0m\u001b[0mflush\u001b[0m\u001b[0;34m(\u001b[0m\u001b[0;34m)\u001b[0m\u001b[0;34m\u001b[0m\u001b[0;34m\u001b[0m\u001b[0m\n\u001b[0m\u001b[1;32m     99\u001b[0m     \u001b[0;32melse\u001b[0m\u001b[0;34m:\u001b[0m\u001b[0;34m\u001b[0m\u001b[0;34m\u001b[0m\u001b[0m\n\u001b[1;32m    100\u001b[0m         sys.stdout.write(\n",
            "\u001b[0;32m/usr/local/lib/python3.9/dist-packages/ipykernel/iostream.py\u001b[0m in \u001b[0;36mflush\u001b[0;34m(self)\u001b[0m\n\u001b[1;32m    350\u001b[0m                 \u001b[0mself\u001b[0m\u001b[0;34m.\u001b[0m\u001b[0mpub_thread\u001b[0m\u001b[0;34m.\u001b[0m\u001b[0mschedule\u001b[0m\u001b[0;34m(\u001b[0m\u001b[0mevt\u001b[0m\u001b[0;34m.\u001b[0m\u001b[0mset\u001b[0m\u001b[0;34m)\u001b[0m\u001b[0;34m\u001b[0m\u001b[0;34m\u001b[0m\u001b[0m\n\u001b[1;32m    351\u001b[0m                 \u001b[0;31m# and give a timeout to avoid\u001b[0m\u001b[0;34m\u001b[0m\u001b[0;34m\u001b[0m\u001b[0m\n\u001b[0;32m--> 352\u001b[0;31m                 \u001b[0;32mif\u001b[0m \u001b[0;32mnot\u001b[0m \u001b[0mevt\u001b[0m\u001b[0;34m.\u001b[0m\u001b[0mwait\u001b[0m\u001b[0;34m(\u001b[0m\u001b[0mself\u001b[0m\u001b[0;34m.\u001b[0m\u001b[0mflush_timeout\u001b[0m\u001b[0;34m)\u001b[0m\u001b[0;34m:\u001b[0m\u001b[0;34m\u001b[0m\u001b[0;34m\u001b[0m\u001b[0m\n\u001b[0m\u001b[1;32m    353\u001b[0m                     \u001b[0;31m# write directly to __stderr__ instead of warning because\u001b[0m\u001b[0;34m\u001b[0m\u001b[0;34m\u001b[0m\u001b[0m\n\u001b[1;32m    354\u001b[0m                     \u001b[0;31m# if this is happening sys.stderr may be the problem.\u001b[0m\u001b[0;34m\u001b[0m\u001b[0;34m\u001b[0m\u001b[0m\n",
            "\u001b[0;32m/usr/lib/python3.9/threading.py\u001b[0m in \u001b[0;36mwait\u001b[0;34m(self, timeout)\u001b[0m\n\u001b[1;32m    579\u001b[0m             \u001b[0msignaled\u001b[0m \u001b[0;34m=\u001b[0m \u001b[0mself\u001b[0m\u001b[0;34m.\u001b[0m\u001b[0m_flag\u001b[0m\u001b[0;34m\u001b[0m\u001b[0;34m\u001b[0m\u001b[0m\n\u001b[1;32m    580\u001b[0m             \u001b[0;32mif\u001b[0m \u001b[0;32mnot\u001b[0m \u001b[0msignaled\u001b[0m\u001b[0;34m:\u001b[0m\u001b[0;34m\u001b[0m\u001b[0;34m\u001b[0m\u001b[0m\n\u001b[0;32m--> 581\u001b[0;31m                 \u001b[0msignaled\u001b[0m \u001b[0;34m=\u001b[0m \u001b[0mself\u001b[0m\u001b[0;34m.\u001b[0m\u001b[0m_cond\u001b[0m\u001b[0;34m.\u001b[0m\u001b[0mwait\u001b[0m\u001b[0;34m(\u001b[0m\u001b[0mtimeout\u001b[0m\u001b[0;34m)\u001b[0m\u001b[0;34m\u001b[0m\u001b[0;34m\u001b[0m\u001b[0m\n\u001b[0m\u001b[1;32m    582\u001b[0m             \u001b[0;32mreturn\u001b[0m \u001b[0msignaled\u001b[0m\u001b[0;34m\u001b[0m\u001b[0;34m\u001b[0m\u001b[0m\n\u001b[1;32m    583\u001b[0m \u001b[0;34m\u001b[0m\u001b[0m\n",
            "\u001b[0;32m/usr/lib/python3.9/threading.py\u001b[0m in \u001b[0;36mwait\u001b[0;34m(self, timeout)\u001b[0m\n\u001b[1;32m    314\u001b[0m             \u001b[0;32melse\u001b[0m\u001b[0;34m:\u001b[0m\u001b[0;34m\u001b[0m\u001b[0;34m\u001b[0m\u001b[0m\n\u001b[1;32m    315\u001b[0m                 \u001b[0;32mif\u001b[0m \u001b[0mtimeout\u001b[0m \u001b[0;34m>\u001b[0m \u001b[0;36m0\u001b[0m\u001b[0;34m:\u001b[0m\u001b[0;34m\u001b[0m\u001b[0;34m\u001b[0m\u001b[0m\n\u001b[0;32m--> 316\u001b[0;31m                     \u001b[0mgotit\u001b[0m \u001b[0;34m=\u001b[0m \u001b[0mwaiter\u001b[0m\u001b[0;34m.\u001b[0m\u001b[0macquire\u001b[0m\u001b[0;34m(\u001b[0m\u001b[0;32mTrue\u001b[0m\u001b[0;34m,\u001b[0m \u001b[0mtimeout\u001b[0m\u001b[0;34m)\u001b[0m\u001b[0;34m\u001b[0m\u001b[0;34m\u001b[0m\u001b[0m\n\u001b[0m\u001b[1;32m    317\u001b[0m                 \u001b[0;32melse\u001b[0m\u001b[0;34m:\u001b[0m\u001b[0;34m\u001b[0m\u001b[0;34m\u001b[0m\u001b[0m\n\u001b[1;32m    318\u001b[0m                     \u001b[0mgotit\u001b[0m \u001b[0;34m=\u001b[0m \u001b[0mwaiter\u001b[0m\u001b[0;34m.\u001b[0m\u001b[0macquire\u001b[0m\u001b[0;34m(\u001b[0m\u001b[0;32mFalse\u001b[0m\u001b[0;34m)\u001b[0m\u001b[0;34m\u001b[0m\u001b[0;34m\u001b[0m\u001b[0m\n",
            "\u001b[0;31mKeyboardInterrupt\u001b[0m: "
          ]
        }
      ]
    },
    {
      "cell_type": "code",
      "source": [
        "import nltk\n",
        "import re\n",
        "nltk.download('stopwords')\n",
        "nltk.download('punkt')\n",
        "nltk.download('wordnet')\n",
        "nltk.download('omw-1.4')\n",
        "from nltk.corpus import wordnet, stopwords\n",
        "from nltk.stem import WordNetLemmatizer\n",
        "from nltk.tokenize import word_tokenize"
      ],
      "metadata": {
        "colab": {
          "base_uri": "https://localhost:8080/"
        },
        "id": "aFD6Y5s8RfTE",
        "outputId": "98f2f2cf-559b-48ee-9b28-cefdc6d12cad"
      },
      "execution_count": null,
      "outputs": [
        {
          "output_type": "stream",
          "name": "stderr",
          "text": [
            "[nltk_data] Downloading package stopwords to /root/nltk_data...\n",
            "[nltk_data]   Unzipping corpora/stopwords.zip.\n",
            "[nltk_data] Downloading package punkt to /root/nltk_data...\n",
            "[nltk_data]   Unzipping tokenizers/punkt.zip.\n",
            "[nltk_data] Downloading package wordnet to /root/nltk_data...\n",
            "[nltk_data] Downloading package omw-1.4 to /root/nltk_data...\n"
          ]
        }
      ]
    },
    {
      "cell_type": "code",
      "source": [
        "wnl = WordNetLemmatizer()\n",
        "\n",
        "def filter_out_non_text(text: str) -> str:\n",
        "  filtered_text = repr(text.encode('utf-8'))[2:-1]\n",
        "  filtered_text = filtered_text.replace('\\\\n',' ')\n",
        "  filtered_text = re.sub(r\"won\\'t\", \"will not\", filtered_text)\n",
        "  filtered_text = re.sub(r\"can\\'t\", \"can not\", filtered_text)\n",
        "  filtered_text = re.sub(r\"n\\'t\", \" not\", filtered_text)\n",
        "  filtered_text = re.sub(r\"\\'re\", \" are\", filtered_text)\n",
        "  filtered_text = re.sub(r\"(he|He)\\'s\", \"he is\", filtered_text)\n",
        "  filtered_text = re.sub(r\"(she|She)\\'s\", \"she is\", filtered_text)\n",
        "  filtered_text = re.sub(r\"(it|It)\\'s\", \"it is\", filtered_text)\n",
        "  filtered_text = re.sub(r\"\\'d\", \" would\", filtered_text)\n",
        "  filtered_text = re.sub(r\"\\'ll\", \" will\", filtered_text)\n",
        "  filtered_text = re.sub(r\"\\'t\", \" not\", filtered_text)\n",
        "  filtered_text = re.sub(r\"[#@]\", \"\", filtered_text)\n",
        "  filtered_text = re.sub(r\"(\\'ve|has)\", \" have\", filtered_text)\n",
        "  filtered_text = re.sub(r\"\\'m\", \" am\", filtered_text)\n",
        "  filtered_text = re.sub(r\"\\\\x[a-f0-9]*\", \"\", filtered_text)\n",
        "  filtered_text = filtered_text.split(' ')\n",
        "  filtered_text = ' '.join([\n",
        "      wnl.lemmatize(word.lower()) for word in filtered_text if word.isalpha() and word.lower() not in stopwords.words('english')\n",
        "      ])\n",
        "  return filtered_text"
      ],
      "metadata": {
        "id": "udqb3QcnRuP5"
      },
      "execution_count": null,
      "outputs": []
    },
    {
      "cell_type": "code",
      "source": [
        "import pandas as pd\n",
        "\n",
        "text = pd.read_csv('train/tweets_labelled_09042020_16072020.csv', sep=';')"
      ],
      "metadata": {
        "id": "SBtnBTZLSFeN"
      },
      "execution_count": null,
      "outputs": []
    },
    {
      "cell_type": "code",
      "source": [
        "filtered_text = text['text'].map(filter_out_non_text)"
      ],
      "metadata": {
        "id": "TJ4KPfFpTQO8"
      },
      "execution_count": null,
      "outputs": []
    },
    {
      "cell_type": "code",
      "source": [
        "text.head(10)"
      ],
      "metadata": {
        "colab": {
          "base_uri": "https://localhost:8080/",
          "height": 363
        },
        "id": "cKimjcx3FwN5",
        "outputId": "d208777f-60a3-4962-a202-f55067d3b568"
      },
      "execution_count": null,
      "outputs": [
        {
          "output_type": "execute_result",
          "data": {
            "text/plain": [
              "       id                 created_at  \\\n",
              "0   77522  2020-04-15 01:03:46+00:00   \n",
              "1  661634  2020-06-25 06:20:06+00:00   \n",
              "2  413231  2020-06-04 15:41:45+00:00   \n",
              "3  760262  2020-07-03 19:39:35+00:00   \n",
              "4  830153  2020-07-09 14:39:14+00:00   \n",
              "5   27027  2020-04-12 21:52:56+00:00   \n",
              "6  472959  2020-06-09 05:23:06+00:00   \n",
              "7  392845  2020-06-02 01:12:29+00:00   \n",
              "8  313771  2020-05-07 04:58:41+00:00   \n",
              "9  267894  2020-05-04 15:16:29+00:00   \n",
              "\n",
              "                                                text sentiment  \n",
              "0  RT @RobertBeadles: Yo💥\\nEnter to WIN 1,000 Mon...  positive  \n",
              "1  #SriLanka surcharge on fuel removed!\\n⛽📉\\nThe ...  negative  \n",
              "2  Net issuance increases to fund fiscal programs...  positive  \n",
              "3  RT @bentboolean: How much of Amazon's traffic ...  positive  \n",
              "4  $AMD Ryzen 4000 desktop CPUs looking ‘great’ a...  positive  \n",
              "5  RT @QuantTrend: Reduce your portfolio RISK! GO...  positive  \n",
              "6  $863.69 Million in Sales Expected for Spirit A...  positive  \n",
              "7  RT @ArjunKharpal: #Apple has cut the prices of...  negative  \n",
              "8  RT @SMA_alpha: The #CDC U.S. New Case data has...  negative  \n",
              "9  Where to Look for Dependable Dividends\\nRead M...   neutral  "
            ],
            "text/html": [
              "\n",
              "  <div id=\"df-79edb511-c902-46e5-88f7-4b1b62d26f7f\">\n",
              "    <div class=\"colab-df-container\">\n",
              "      <div>\n",
              "<style scoped>\n",
              "    .dataframe tbody tr th:only-of-type {\n",
              "        vertical-align: middle;\n",
              "    }\n",
              "\n",
              "    .dataframe tbody tr th {\n",
              "        vertical-align: top;\n",
              "    }\n",
              "\n",
              "    .dataframe thead th {\n",
              "        text-align: right;\n",
              "    }\n",
              "</style>\n",
              "<table border=\"1\" class=\"dataframe\">\n",
              "  <thead>\n",
              "    <tr style=\"text-align: right;\">\n",
              "      <th></th>\n",
              "      <th>id</th>\n",
              "      <th>created_at</th>\n",
              "      <th>text</th>\n",
              "      <th>sentiment</th>\n",
              "    </tr>\n",
              "  </thead>\n",
              "  <tbody>\n",
              "    <tr>\n",
              "      <th>0</th>\n",
              "      <td>77522</td>\n",
              "      <td>2020-04-15 01:03:46+00:00</td>\n",
              "      <td>RT @RobertBeadles: Yo💥\\nEnter to WIN 1,000 Mon...</td>\n",
              "      <td>positive</td>\n",
              "    </tr>\n",
              "    <tr>\n",
              "      <th>1</th>\n",
              "      <td>661634</td>\n",
              "      <td>2020-06-25 06:20:06+00:00</td>\n",
              "      <td>#SriLanka surcharge on fuel removed!\\n⛽📉\\nThe ...</td>\n",
              "      <td>negative</td>\n",
              "    </tr>\n",
              "    <tr>\n",
              "      <th>2</th>\n",
              "      <td>413231</td>\n",
              "      <td>2020-06-04 15:41:45+00:00</td>\n",
              "      <td>Net issuance increases to fund fiscal programs...</td>\n",
              "      <td>positive</td>\n",
              "    </tr>\n",
              "    <tr>\n",
              "      <th>3</th>\n",
              "      <td>760262</td>\n",
              "      <td>2020-07-03 19:39:35+00:00</td>\n",
              "      <td>RT @bentboolean: How much of Amazon's traffic ...</td>\n",
              "      <td>positive</td>\n",
              "    </tr>\n",
              "    <tr>\n",
              "      <th>4</th>\n",
              "      <td>830153</td>\n",
              "      <td>2020-07-09 14:39:14+00:00</td>\n",
              "      <td>$AMD Ryzen 4000 desktop CPUs looking ‘great’ a...</td>\n",
              "      <td>positive</td>\n",
              "    </tr>\n",
              "    <tr>\n",
              "      <th>5</th>\n",
              "      <td>27027</td>\n",
              "      <td>2020-04-12 21:52:56+00:00</td>\n",
              "      <td>RT @QuantTrend: Reduce your portfolio RISK! GO...</td>\n",
              "      <td>positive</td>\n",
              "    </tr>\n",
              "    <tr>\n",
              "      <th>6</th>\n",
              "      <td>472959</td>\n",
              "      <td>2020-06-09 05:23:06+00:00</td>\n",
              "      <td>$863.69 Million in Sales Expected for Spirit A...</td>\n",
              "      <td>positive</td>\n",
              "    </tr>\n",
              "    <tr>\n",
              "      <th>7</th>\n",
              "      <td>392845</td>\n",
              "      <td>2020-06-02 01:12:29+00:00</td>\n",
              "      <td>RT @ArjunKharpal: #Apple has cut the prices of...</td>\n",
              "      <td>negative</td>\n",
              "    </tr>\n",
              "    <tr>\n",
              "      <th>8</th>\n",
              "      <td>313771</td>\n",
              "      <td>2020-05-07 04:58:41+00:00</td>\n",
              "      <td>RT @SMA_alpha: The #CDC U.S. New Case data has...</td>\n",
              "      <td>negative</td>\n",
              "    </tr>\n",
              "    <tr>\n",
              "      <th>9</th>\n",
              "      <td>267894</td>\n",
              "      <td>2020-05-04 15:16:29+00:00</td>\n",
              "      <td>Where to Look for Dependable Dividends\\nRead M...</td>\n",
              "      <td>neutral</td>\n",
              "    </tr>\n",
              "  </tbody>\n",
              "</table>\n",
              "</div>\n",
              "      <button class=\"colab-df-convert\" onclick=\"convertToInteractive('df-79edb511-c902-46e5-88f7-4b1b62d26f7f')\"\n",
              "              title=\"Convert this dataframe to an interactive table.\"\n",
              "              style=\"display:none;\">\n",
              "        \n",
              "  <svg xmlns=\"http://www.w3.org/2000/svg\" height=\"24px\"viewBox=\"0 0 24 24\"\n",
              "       width=\"24px\">\n",
              "    <path d=\"M0 0h24v24H0V0z\" fill=\"none\"/>\n",
              "    <path d=\"M18.56 5.44l.94 2.06.94-2.06 2.06-.94-2.06-.94-.94-2.06-.94 2.06-2.06.94zm-11 1L8.5 8.5l.94-2.06 2.06-.94-2.06-.94L8.5 2.5l-.94 2.06-2.06.94zm10 10l.94 2.06.94-2.06 2.06-.94-2.06-.94-.94-2.06-.94 2.06-2.06.94z\"/><path d=\"M17.41 7.96l-1.37-1.37c-.4-.4-.92-.59-1.43-.59-.52 0-1.04.2-1.43.59L10.3 9.45l-7.72 7.72c-.78.78-.78 2.05 0 2.83L4 21.41c.39.39.9.59 1.41.59.51 0 1.02-.2 1.41-.59l7.78-7.78 2.81-2.81c.8-.78.8-2.07 0-2.86zM5.41 20L4 18.59l7.72-7.72 1.47 1.35L5.41 20z\"/>\n",
              "  </svg>\n",
              "      </button>\n",
              "      \n",
              "  <style>\n",
              "    .colab-df-container {\n",
              "      display:flex;\n",
              "      flex-wrap:wrap;\n",
              "      gap: 12px;\n",
              "    }\n",
              "\n",
              "    .colab-df-convert {\n",
              "      background-color: #E8F0FE;\n",
              "      border: none;\n",
              "      border-radius: 50%;\n",
              "      cursor: pointer;\n",
              "      display: none;\n",
              "      fill: #1967D2;\n",
              "      height: 32px;\n",
              "      padding: 0 0 0 0;\n",
              "      width: 32px;\n",
              "    }\n",
              "\n",
              "    .colab-df-convert:hover {\n",
              "      background-color: #E2EBFA;\n",
              "      box-shadow: 0px 1px 2px rgba(60, 64, 67, 0.3), 0px 1px 3px 1px rgba(60, 64, 67, 0.15);\n",
              "      fill: #174EA6;\n",
              "    }\n",
              "\n",
              "    [theme=dark] .colab-df-convert {\n",
              "      background-color: #3B4455;\n",
              "      fill: #D2E3FC;\n",
              "    }\n",
              "\n",
              "    [theme=dark] .colab-df-convert:hover {\n",
              "      background-color: #434B5C;\n",
              "      box-shadow: 0px 1px 3px 1px rgba(0, 0, 0, 0.15);\n",
              "      filter: drop-shadow(0px 1px 2px rgba(0, 0, 0, 0.3));\n",
              "      fill: #FFFFFF;\n",
              "    }\n",
              "  </style>\n",
              "\n",
              "      <script>\n",
              "        const buttonEl =\n",
              "          document.querySelector('#df-79edb511-c902-46e5-88f7-4b1b62d26f7f button.colab-df-convert');\n",
              "        buttonEl.style.display =\n",
              "          google.colab.kernel.accessAllowed ? 'block' : 'none';\n",
              "\n",
              "        async function convertToInteractive(key) {\n",
              "          const element = document.querySelector('#df-79edb511-c902-46e5-88f7-4b1b62d26f7f');\n",
              "          const dataTable =\n",
              "            await google.colab.kernel.invokeFunction('convertToInteractive',\n",
              "                                                     [key], {});\n",
              "          if (!dataTable) return;\n",
              "\n",
              "          const docLinkHtml = 'Like what you see? Visit the ' +\n",
              "            '<a target=\"_blank\" href=https://colab.research.google.com/notebooks/data_table.ipynb>data table notebook</a>'\n",
              "            + ' to learn more about interactive tables.';\n",
              "          element.innerHTML = '';\n",
              "          dataTable['output_type'] = 'display_data';\n",
              "          await google.colab.output.renderOutput(dataTable, element);\n",
              "          const docLink = document.createElement('div');\n",
              "          docLink.innerHTML = docLinkHtml;\n",
              "          element.appendChild(docLink);\n",
              "        }\n",
              "      </script>\n",
              "    </div>\n",
              "  </div>\n",
              "  "
            ]
          },
          "metadata": {},
          "execution_count": 11
        }
      ]
    },
    {
      "cell_type": "code",
      "source": [
        "filtered_list = list(map(lambda sentence: sentence.split(' '), filtered_text.values.tolist()))"
      ],
      "metadata": {
        "id": "UjAflUwsT0Zh"
      },
      "execution_count": null,
      "outputs": []
    },
    {
      "cell_type": "code",
      "source": [
        "model_w2v = Word2Vec(filtered_list, size = 100, window = 10, workers = 4, iter=50, negative=5, min_count=3)"
      ],
      "metadata": {
        "id": "wEvvLdv0UChy"
      },
      "execution_count": null,
      "outputs": []
    },
    {
      "cell_type": "code",
      "source": [
        "model_w2v.wv.most_similar('apple', topn=15)"
      ],
      "metadata": {
        "colab": {
          "base_uri": "https://localhost:8080/"
        },
        "id": "FlLSliOXWfSv",
        "outputId": "6a51c4b2-4e89-4c98-a787-2a64930a0049"
      },
      "execution_count": null,
      "outputs": [
        {
          "output_type": "execute_result",
          "data": {
            "text/plain": [
              "[('macbook', 0.803277313709259),\n",
              " ('iphone', 0.7935967445373535),\n",
              " ('maker', 0.7507783770561218),\n",
              " ('store', 0.7463147640228271),\n",
              " ('ordered', 0.733364462852478),\n",
              " ('bookstore', 0.706890881061554),\n",
              " ('expand', 0.7002881169319153),\n",
              " ('episode', 0.6992686986923218),\n",
              " ('reportedly', 0.6909438371658325),\n",
              " ('goo', 0.6878138780593872),\n",
              " ('pc', 0.6746941208839417),\n",
              " ('possibly', 0.6729687452316284),\n",
              " ('facebook', 0.6685755252838135),\n",
              " ('music', 0.6606248617172241),\n",
              " ('microsoft', 0.6487978100776672)]"
            ]
          },
          "metadata": {},
          "execution_count": 14
        }
      ]
    },
    {
      "cell_type": "code",
      "source": [
        "from sklearn.feature_extraction.text import TfidfVectorizer"
      ],
      "metadata": {
        "id": "A_VI2xE2Z2F_"
      },
      "execution_count": null,
      "outputs": []
    },
    {
      "cell_type": "code",
      "source": [
        "vectorizer = TfidfVectorizer()\n",
        "X = vectorizer.fit_transform(filtered_text)\n",
        "vectorizer.get_feature_names_out().shape"
      ],
      "metadata": {
        "colab": {
          "base_uri": "https://localhost:8080/"
        },
        "id": "QRhVFyQaahjX",
        "outputId": "b2992ea1-366f-4dc9-8778-9bf44e6e1aa5"
      },
      "execution_count": null,
      "outputs": [
        {
          "output_type": "execute_result",
          "data": {
            "text/plain": [
              "(8562,)"
            ]
          },
          "metadata": {},
          "execution_count": 132
        }
      ]
    },
    {
      "cell_type": "code",
      "source": [
        "def get_relevant_terms(sentence, threshold):\n",
        "  relevant_pairs = np.argwhere(X[sentence]>threshold)\n",
        "  relevant_items = relevant_pairs[:,1].flatten()\n",
        "  return  ' '.join(Y[relevant_items])\n",
        "  #list(filter(lambda score: score>threshold, X[sentence].toarray()[sentence]))"
      ],
      "metadata": {
        "id": "Nt7sDjZ6bQgo"
      },
      "execution_count": null,
      "outputs": []
    },
    {
      "cell_type": "code",
      "source": [
        "get_relevant_terms(0, 0.1 )"
      ],
      "metadata": {
        "colab": {
          "base_uri": "https://localhost:8080/",
          "height": 35
        },
        "id": "5juRP5FUe6fN",
        "outputId": "91b2cc7c-7f61-4568-ef58-91d1a0660a8c"
      },
      "execution_count": null,
      "outputs": [
        {
          "output_type": "execute_result",
          "data": {
            "text/plain": [
              "'crash enter learn market monarch token video watch win yo'"
            ],
            "application/vnd.google.colaboratory.intrinsic+json": {
              "type": "string"
            }
          },
          "metadata": {},
          "execution_count": 136
        }
      ]
    },
    {
      "cell_type": "code",
      "source": [
        "texts = []\n",
        "for i in range(len(text)):\n",
        "  texts.append(get_relevant_terms(i, 0.2)) \n",
        "\n",
        "print(texts[:10])"
      ],
      "metadata": {
        "colab": {
          "base_uri": "https://localhost:8080/"
        },
        "id": "BL-2kGgujHc4",
        "outputId": "ae2b587c-4f17-448f-beed-81b78965b629"
      },
      "execution_count": null,
      "outputs": [
        {
          "output_type": "stream",
          "name": "stdout",
          "text": [
            "['crash enter learn monarch token video watch win yo', 'amaraweera diesel fuel fuelprices imposed lka midnight minister petrol revoked srilanka surcharge transport', 'correct emfx fiscal fund increase issuance net program spike unemployment ycc yield', 'find help ip much running served tool traffic', 'amd cnbc cpu desktop great launch looking madtweets ryzen track', 'balance bank central deficit expansion fiscal gold large perfect portfolio reduce sheet tail', 'aerosystems expected million quarter sale spirit', 'apple cut discount iphone price range uncommon', 'case cdc data decline encouraging flat global new saw', 'business dependable dividend etf investing look news read']\n"
          ]
        }
      ]
    },
    {
      "cell_type": "code",
      "source": [
        "dataset = text[['sentiment']]\n",
        "dataset['texts'] = filtered_text\n",
        "\n",
        "dataset.head()"
      ],
      "metadata": {
        "colab": {
          "base_uri": "https://localhost:8080/",
          "height": 333
        },
        "id": "Awq8AC9Jm0f5",
        "outputId": "88b556ec-8bd9-45b3-dedf-64ee41035b77"
      },
      "execution_count": null,
      "outputs": [
        {
          "output_type": "stream",
          "name": "stderr",
          "text": [
            "<ipython-input-15-9e02c38433dd>:2: SettingWithCopyWarning: \n",
            "A value is trying to be set on a copy of a slice from a DataFrame.\n",
            "Try using .loc[row_indexer,col_indexer] = value instead\n",
            "\n",
            "See the caveats in the documentation: https://pandas.pydata.org/pandas-docs/stable/user_guide/indexing.html#returning-a-view-versus-a-copy\n",
            "  dataset['texts'] = filtered_text\n"
          ]
        },
        {
          "output_type": "execute_result",
          "data": {
            "text/plain": [
              "  sentiment                                              texts\n",
              "0  positive  rt yo enter win monarch token u stock market c...\n",
              "1  negative  srilanka surcharge fuel surcharge imposed dies...\n",
              "2  positive  net issuance increase fund fiscal program yiel...\n",
              "3  positive  rt much traffic served help u find running too...\n",
              "4  positive  ryzen desktop cpu looking great track launch m..."
            ],
            "text/html": [
              "\n",
              "  <div id=\"df-57ef3a06-6c5c-46d1-85e2-737a11ab607a\">\n",
              "    <div class=\"colab-df-container\">\n",
              "      <div>\n",
              "<style scoped>\n",
              "    .dataframe tbody tr th:only-of-type {\n",
              "        vertical-align: middle;\n",
              "    }\n",
              "\n",
              "    .dataframe tbody tr th {\n",
              "        vertical-align: top;\n",
              "    }\n",
              "\n",
              "    .dataframe thead th {\n",
              "        text-align: right;\n",
              "    }\n",
              "</style>\n",
              "<table border=\"1\" class=\"dataframe\">\n",
              "  <thead>\n",
              "    <tr style=\"text-align: right;\">\n",
              "      <th></th>\n",
              "      <th>sentiment</th>\n",
              "      <th>texts</th>\n",
              "    </tr>\n",
              "  </thead>\n",
              "  <tbody>\n",
              "    <tr>\n",
              "      <th>0</th>\n",
              "      <td>positive</td>\n",
              "      <td>rt yo enter win monarch token u stock market c...</td>\n",
              "    </tr>\n",
              "    <tr>\n",
              "      <th>1</th>\n",
              "      <td>negative</td>\n",
              "      <td>srilanka surcharge fuel surcharge imposed dies...</td>\n",
              "    </tr>\n",
              "    <tr>\n",
              "      <th>2</th>\n",
              "      <td>positive</td>\n",
              "      <td>net issuance increase fund fiscal program yiel...</td>\n",
              "    </tr>\n",
              "    <tr>\n",
              "      <th>3</th>\n",
              "      <td>positive</td>\n",
              "      <td>rt much traffic served help u find running too...</td>\n",
              "    </tr>\n",
              "    <tr>\n",
              "      <th>4</th>\n",
              "      <td>positive</td>\n",
              "      <td>ryzen desktop cpu looking great track launch m...</td>\n",
              "    </tr>\n",
              "  </tbody>\n",
              "</table>\n",
              "</div>\n",
              "      <button class=\"colab-df-convert\" onclick=\"convertToInteractive('df-57ef3a06-6c5c-46d1-85e2-737a11ab607a')\"\n",
              "              title=\"Convert this dataframe to an interactive table.\"\n",
              "              style=\"display:none;\">\n",
              "        \n",
              "  <svg xmlns=\"http://www.w3.org/2000/svg\" height=\"24px\"viewBox=\"0 0 24 24\"\n",
              "       width=\"24px\">\n",
              "    <path d=\"M0 0h24v24H0V0z\" fill=\"none\"/>\n",
              "    <path d=\"M18.56 5.44l.94 2.06.94-2.06 2.06-.94-2.06-.94-.94-2.06-.94 2.06-2.06.94zm-11 1L8.5 8.5l.94-2.06 2.06-.94-2.06-.94L8.5 2.5l-.94 2.06-2.06.94zm10 10l.94 2.06.94-2.06 2.06-.94-2.06-.94-.94-2.06-.94 2.06-2.06.94z\"/><path d=\"M17.41 7.96l-1.37-1.37c-.4-.4-.92-.59-1.43-.59-.52 0-1.04.2-1.43.59L10.3 9.45l-7.72 7.72c-.78.78-.78 2.05 0 2.83L4 21.41c.39.39.9.59 1.41.59.51 0 1.02-.2 1.41-.59l7.78-7.78 2.81-2.81c.8-.78.8-2.07 0-2.86zM5.41 20L4 18.59l7.72-7.72 1.47 1.35L5.41 20z\"/>\n",
              "  </svg>\n",
              "      </button>\n",
              "      \n",
              "  <style>\n",
              "    .colab-df-container {\n",
              "      display:flex;\n",
              "      flex-wrap:wrap;\n",
              "      gap: 12px;\n",
              "    }\n",
              "\n",
              "    .colab-df-convert {\n",
              "      background-color: #E8F0FE;\n",
              "      border: none;\n",
              "      border-radius: 50%;\n",
              "      cursor: pointer;\n",
              "      display: none;\n",
              "      fill: #1967D2;\n",
              "      height: 32px;\n",
              "      padding: 0 0 0 0;\n",
              "      width: 32px;\n",
              "    }\n",
              "\n",
              "    .colab-df-convert:hover {\n",
              "      background-color: #E2EBFA;\n",
              "      box-shadow: 0px 1px 2px rgba(60, 64, 67, 0.3), 0px 1px 3px 1px rgba(60, 64, 67, 0.15);\n",
              "      fill: #174EA6;\n",
              "    }\n",
              "\n",
              "    [theme=dark] .colab-df-convert {\n",
              "      background-color: #3B4455;\n",
              "      fill: #D2E3FC;\n",
              "    }\n",
              "\n",
              "    [theme=dark] .colab-df-convert:hover {\n",
              "      background-color: #434B5C;\n",
              "      box-shadow: 0px 1px 3px 1px rgba(0, 0, 0, 0.15);\n",
              "      filter: drop-shadow(0px 1px 2px rgba(0, 0, 0, 0.3));\n",
              "      fill: #FFFFFF;\n",
              "    }\n",
              "  </style>\n",
              "\n",
              "      <script>\n",
              "        const buttonEl =\n",
              "          document.querySelector('#df-57ef3a06-6c5c-46d1-85e2-737a11ab607a button.colab-df-convert');\n",
              "        buttonEl.style.display =\n",
              "          google.colab.kernel.accessAllowed ? 'block' : 'none';\n",
              "\n",
              "        async function convertToInteractive(key) {\n",
              "          const element = document.querySelector('#df-57ef3a06-6c5c-46d1-85e2-737a11ab607a');\n",
              "          const dataTable =\n",
              "            await google.colab.kernel.invokeFunction('convertToInteractive',\n",
              "                                                     [key], {});\n",
              "          if (!dataTable) return;\n",
              "\n",
              "          const docLinkHtml = 'Like what you see? Visit the ' +\n",
              "            '<a target=\"_blank\" href=https://colab.research.google.com/notebooks/data_table.ipynb>data table notebook</a>'\n",
              "            + ' to learn more about interactive tables.';\n",
              "          element.innerHTML = '';\n",
              "          dataTable['output_type'] = 'display_data';\n",
              "          await google.colab.output.renderOutput(dataTable, element);\n",
              "          const docLink = document.createElement('div');\n",
              "          docLink.innerHTML = docLinkHtml;\n",
              "          element.appendChild(docLink);\n",
              "        }\n",
              "      </script>\n",
              "    </div>\n",
              "  </div>\n",
              "  "
            ]
          },
          "metadata": {},
          "execution_count": 15
        }
      ]
    },
    {
      "cell_type": "code",
      "source": [
        "all_vocab = twitter_vectors.wv.index2word[:]\n",
        "#all_vocab.extend(model_w2v.wv.index2word)\n",
        "#all_vocab = list(set(all_vocab))"
      ],
      "metadata": {
        "colab": {
          "base_uri": "https://localhost:8080/"
        },
        "id": "rb0wX91gZqso",
        "outputId": "509a53bc-b367-4e43-c8b2-47ba50d592ba"
      },
      "execution_count": null,
      "outputs": [
        {
          "output_type": "stream",
          "name": "stderr",
          "text": [
            "<ipython-input-66-f36f6ee07104>:1: DeprecationWarning: Call to deprecated `wv` (Attribute will be removed in 4.0.0, use self instead).\n",
            "  all_vocab = twitter_vectors.wv.index2word[:]\n"
          ]
        }
      ]
    },
    {
      "cell_type": "code",
      "source": [
        "def construct_vocabulary():\n",
        "  res = []\n",
        "  for word in all_vocab:\n",
        "    if word != '':\n",
        "        res.append(twitter_vectors.wv[word])\n",
        "  return np.vstack(res)"
      ],
      "metadata": {
        "id": "q9R0tAhdTfgm"
      },
      "execution_count": null,
      "outputs": []
    },
    {
      "cell_type": "code",
      "source": [
        "vocabulary = construct_vocabulary(model_w2v)"
      ],
      "metadata": {
        "id": "llhhY_vQV5AL",
        "colab": {
          "base_uri": "https://localhost:8080/"
        },
        "outputId": "c7c4dc5b-fd4c-4137-8e05-eb1afc7078b0"
      },
      "execution_count": null,
      "outputs": [
        {
          "output_type": "stream",
          "name": "stderr",
          "text": [
            "<ipython-input-67-d95954151213>:5: DeprecationWarning: Call to deprecated `wv` (Attribute will be removed in 4.0.0, use self instead).\n",
            "  res.append(twitter_vectors.wv[word])\n"
          ]
        }
      ]
    },
    {
      "cell_type": "code",
      "source": [
        "all_vocab = [x for x in all_vocab if x!='']"
      ],
      "metadata": {
        "id": "Pf8lS2PsXCcM"
      },
      "execution_count": null,
      "outputs": []
    },
    {
      "cell_type": "code",
      "source": [
        "class SentimentModel(tf.keras.Model):\n",
        "  def __init__(self, \n",
        "               max_token: int,\n",
        "               kernel_size: int,\n",
        "               filters: int):\n",
        "    super().__init__(self)\n",
        "    self.vectorizer=tf.keras.layers.TextVectorization(output_sequence_length=max_token, vocabulary=all_vocab)\n",
        "    self.embeddings=tf.keras.layers.Embedding(len(all_vocab), 100, weights=tf.constant([vocabulary]))\n",
        "    self.embeddings.trainable=False\n",
        "    self.conv_1=tf.keras.layers.Conv1D(filters=filters, kernel_size=kernel_size, activation='relu')\n",
        "    self.conv_2=tf.keras.layers.Conv1D(filters=filters, kernel_size=kernel_size, activation='relu')\n",
        "    self.conv_3=tf.keras.layers.Conv1D(filters=filters, kernel_size=kernel_size, activation='relu')\n",
        "    self.average = tf.keras.layers.AveragePooling1D(2)\n",
        "    self.flatten = tf.keras.layers.Flatten()\n",
        "    self.dense = tf.keras.layers.Dense(64, activation='relu')\n",
        "    self.output_layer = tf.keras.layers.Dense(3)\n",
        "    \n",
        "  def call(self, input_):\n",
        "    o=self.vectorizer(input_)\n",
        "    o=self.embeddings(o)\n",
        "    o=self.conv_1(o)\n",
        "    o=self.conv_2(o)\n",
        "    o=self.conv_3(o)\n",
        "    o=self.average(o) \n",
        "    o=self.flatten(o)\n",
        "    o=self.dense(o) \n",
        "    o=self.output_layer(o) \n",
        "    return o"
      ],
      "metadata": {
        "id": "u1TNseuCXqvJ"
      },
      "execution_count": null,
      "outputs": []
    },
    {
      "cell_type": "code",
      "source": [
        "semantic_model = SentimentModel(max_token=50, kernel_size=2, filters=64)"
      ],
      "metadata": {
        "id": "vx-6I18pcMqj"
      },
      "execution_count": null,
      "outputs": []
    },
    {
      "cell_type": "code",
      "source": [
        "semantic_model.compile(optimizer=tf.keras.optimizers.Adam(0.001), loss=tf.keras.losses.CategoricalCrossentropy(from_logits=True), metrics=[tf.keras.metrics.Precision(), tf.keras.metrics.Recall()])"
      ],
      "metadata": {
        "id": "qNXg4WidcMzo"
      },
      "execution_count": null,
      "outputs": []
    },
    {
      "cell_type": "code",
      "source": [
        "dataset = dataset[~dataset.sentiment.isna()]"
      ],
      "metadata": {
        "id": "IeRybr5onVAz"
      },
      "execution_count": null,
      "outputs": []
    },
    {
      "cell_type": "code",
      "source": [
        "y = pd.get_dummies(dataset['sentiment'])"
      ],
      "metadata": {
        "id": "wVwmO9x2ohG1"
      },
      "execution_count": null,
      "outputs": []
    },
    {
      "cell_type": "code",
      "source": [
        "semantic_model.fit(x=dataset[['texts']].values, y=y.values, epochs=15, batch_size=64)"
      ],
      "metadata": {
        "colab": {
          "base_uri": "https://localhost:8080/"
        },
        "id": "TF38MWYPpzEo",
        "outputId": "e14936e7-be8d-4ca3-97a0-ad6f6682f3fc"
      },
      "execution_count": null,
      "outputs": [
        {
          "output_type": "stream",
          "name": "stdout",
          "text": [
            "Epoch 1/15\n",
            "21/21 [==============================] - 56s 2s/step - loss: 1.0902 - precision_6: 0.6364 - recall_6: 0.0054\n",
            "Epoch 2/15\n",
            "21/21 [==============================] - 36s 2s/step - loss: 1.0443 - precision_6: 0.6271 - recall_6: 0.0854\n",
            "Epoch 3/15\n",
            "21/21 [==============================] - 37s 2s/step - loss: 1.0076 - precision_6: 0.6162 - recall_6: 0.1815\n",
            "Epoch 4/15\n",
            "21/21 [==============================] - 33s 2s/step - loss: 0.9317 - precision_6: 0.7091 - recall_6: 0.2831\n",
            "Epoch 5/15\n",
            "21/21 [==============================] - 34s 2s/step - loss: 0.8186 - precision_6: 0.7098 - recall_6: 0.4892\n",
            "Epoch 6/15\n",
            "21/21 [==============================] - 34s 2s/step - loss: 0.6893 - precision_6: 0.7700 - recall_6: 0.6154\n",
            "Epoch 7/15\n",
            "21/21 [==============================] - 34s 2s/step - loss: 0.6181 - precision_6: 0.7450 - recall_6: 0.7100\n",
            "Epoch 8/15\n",
            "21/21 [==============================] - 34s 2s/step - loss: 0.4909 - precision_6: 0.7956 - recall_6: 0.8054\n",
            "Epoch 9/15\n",
            "21/21 [==============================] - 35s 2s/step - loss: 0.3980 - precision_6: 0.8279 - recall_6: 0.8477\n",
            "Epoch 10/15\n",
            "21/21 [==============================] - 34s 2s/step - loss: 0.2862 - precision_6: 0.8426 - recall_6: 0.9062\n",
            "Epoch 11/15\n",
            "21/21 [==============================] - 36s 2s/step - loss: 0.2512 - precision_6: 0.8274 - recall_6: 0.9331\n",
            "Epoch 12/15\n",
            "21/21 [==============================] - 35s 2s/step - loss: 0.1720 - precision_6: 0.8660 - recall_6: 0.9592\n",
            "Epoch 13/15\n",
            "21/21 [==============================] - 35s 2s/step - loss: 0.1312 - precision_6: 0.8643 - recall_6: 0.9700\n",
            "Epoch 14/15\n",
            "21/21 [==============================] - 34s 2s/step - loss: 0.1102 - precision_6: 0.8560 - recall_6: 0.9785\n",
            "Epoch 15/15\n",
            "21/21 [==============================] - 34s 2s/step - loss: 0.0850 - precision_6: 0.8735 - recall_6: 0.9823\n"
          ]
        },
        {
          "output_type": "execute_result",
          "data": {
            "text/plain": [
              "<keras.callbacks.History at 0x7fa159b35790>"
            ]
          },
          "metadata": {},
          "execution_count": 77
        }
      ]
    },
    {
      "cell_type": "code",
      "source": [
        "y.columns[np.argmax(semantic_model.predict([['apple price crashes rapidly']]))]"
      ],
      "metadata": {
        "colab": {
          "base_uri": "https://localhost:8080/",
          "height": 53
        },
        "id": "CswrAgVlqcZD",
        "outputId": "7594af97-81fb-4e31-f39d-d8a8f030bc99"
      },
      "execution_count": null,
      "outputs": [
        {
          "output_type": "stream",
          "name": "stdout",
          "text": [
            "1/1 [==============================] - 4s 4s/step\n"
          ]
        },
        {
          "output_type": "execute_result",
          "data": {
            "text/plain": [
              "'negative'"
            ],
            "application/vnd.google.colaboratory.intrinsic+json": {
              "type": "string"
            }
          },
          "metadata": {},
          "execution_count": 79
        }
      ]
    },
    {
      "cell_type": "code",
      "source": [
        "semantic_model.save(\"sentiment_analysis_model\")"
      ],
      "metadata": {
        "colab": {
          "base_uri": "https://localhost:8080/"
        },
        "id": "Rv30TmSEm_DJ",
        "outputId": "0e640ce3-c6aa-4f10-eff3-dc83dd50af00"
      },
      "execution_count": null,
      "outputs": [
        {
          "output_type": "stream",
          "name": "stderr",
          "text": [
            "WARNING:absl:Found untraced functions such as _jit_compiled_convolution_op, _jit_compiled_convolution_op, _jit_compiled_convolution_op, _update_step_xla while saving (showing 4 of 4). These functions will not be directly callable after loading.\n"
          ]
        }
      ]
    },
    {
      "cell_type": "code",
      "source": [
        "!pip install yfinance"
      ],
      "metadata": {
        "id": "7Ih8GxeHxlAg"
      },
      "execution_count": null,
      "outputs": []
    },
    {
      "cell_type": "code",
      "source": [
        "!wget https://launchpad.net/~mario-mariomedina/+archive/ubuntu/talib/+files/libta-lib0_0.4.0-oneiric1_amd64.deb -qO libta.deb\n",
        "!wget https://launchpad.net/~mario-mariomedina/+archive/ubuntu/talib/+files/ta-lib0-dev_0.4.0-oneiric1_amd64.deb -qO ta.deb\n",
        "!dpkg -i libta.deb ta.deb\n",
        "!pip install ta-lib"
      ],
      "metadata": {
        "id": "ki_MaUgt2D9W",
        "colab": {
          "base_uri": "https://localhost:8080/"
        },
        "outputId": "9795d0d8-326c-4e55-c3f8-3580d1122365"
      },
      "execution_count": 6,
      "outputs": [
        {
          "output_type": "stream",
          "name": "stdout",
          "text": [
            "Selecting previously unselected package libta-lib0.\n",
            "(Reading database ... 128276 files and directories currently installed.)\n",
            "Preparing to unpack libta.deb ...\n",
            "Unpacking libta-lib0 (0.4.0-oneiric1) ...\n",
            "Selecting previously unselected package ta-lib0-dev.\n",
            "Preparing to unpack ta.deb ...\n",
            "Unpacking ta-lib0-dev (0.4.0-oneiric1) ...\n",
            "Setting up libta-lib0 (0.4.0-oneiric1) ...\n",
            "Setting up ta-lib0-dev (0.4.0-oneiric1) ...\n",
            "Processing triggers for man-db (2.9.1-1) ...\n",
            "Processing triggers for libc-bin (2.31-0ubuntu9.9) ...\n",
            "Looking in indexes: https://pypi.org/simple, https://us-python.pkg.dev/colab-wheels/public/simple/\n",
            "Collecting ta-lib\n",
            "  Downloading TA-Lib-0.4.25.tar.gz (271 kB)\n",
            "\u001b[2K     \u001b[90m━━━━━━━━━━━━━━━━━━━━━━━━━━━━━━━━━━━━━━━\u001b[0m \u001b[32m272.0/272.0 KB\u001b[0m \u001b[31m6.2 MB/s\u001b[0m eta \u001b[36m0:00:00\u001b[0m\n",
            "\u001b[?25h  Installing build dependencies ... \u001b[?25l\u001b[?25hdone\n",
            "  Getting requirements to build wheel ... \u001b[?25l\u001b[?25hdone\n",
            "  Installing backend dependencies ... \u001b[?25l\u001b[?25hdone\n",
            "  Preparing metadata (pyproject.toml) ... \u001b[?25l\u001b[?25hdone\n",
            "Requirement already satisfied: numpy in /usr/local/lib/python3.9/dist-packages (from ta-lib) (1.22.4)\n",
            "Building wheels for collected packages: ta-lib\n",
            "  Building wheel for ta-lib (pyproject.toml) ... \u001b[?25l\u001b[?25hdone\n",
            "  Created wheel for ta-lib: filename=TA_Lib-0.4.25-cp39-cp39-linux_x86_64.whl size=2261292 sha256=28319f1be8278da9045649d9a9a930d8a68275b7d0d7053336dc7cff4fae04bf\n",
            "  Stored in directory: /root/.cache/pip/wheels/a4/1e/ce/8f22bc445ab10758bc4e6babe45f688e199d3a1c6e7d28d32e\n",
            "Successfully built ta-lib\n",
            "Installing collected packages: ta-lib\n",
            "Successfully installed ta-lib-0.4.25\n"
          ]
        }
      ]
    },
    {
      "cell_type": "code",
      "source": [
        "! wget https://algoseek-public.s3.amazonaws.com/nasdaq100-1min.zip &&  unzip nasdaq100-1min.zip -d train"
      ],
      "metadata": {
        "id": "X2Nh87J4QANH"
      },
      "execution_count": null,
      "outputs": []
    },
    {
      "cell_type": "code",
      "source": [
        "! zip -r sentiment_analysis_model.zip /content/sentiment_analysis_model"
      ],
      "metadata": {
        "colab": {
          "base_uri": "https://localhost:8080/"
        },
        "id": "QZQMZPGqom07",
        "outputId": "15a17438-40ab-41f9-8d4b-f4e130f13d9e"
      },
      "execution_count": 8,
      "outputs": [
        {
          "output_type": "stream",
          "name": "stdout",
          "text": [
            "\tzip warning: name not matched: /content/sentiment_analysis_model\n",
            "\n",
            "zip error: Nothing to do! (try: zip -r sentiment_analysis_model.zip . -i /content/sentiment_analysis_model)\n"
          ]
        }
      ]
    },
    {
      "cell_type": "code",
      "source": [
        "columns = ['FirstTradePrice', 'FirstTradeSize', 'LastTradePrice', 'LastTradeSize', 'VolumeWeightPrice', 'LowTradePrice', 'LowTradeSize', 'HighTradePrice', 'HighTradeSize', 'Volume']"
      ],
      "metadata": {
        "id": "3oNl61yJqIif"
      },
      "execution_count": 9,
      "outputs": []
    },
    {
      "cell_type": "code",
      "source": [
        "import talib\n",
        "import gzip\n",
        "import typing as tp\n",
        "import pandas as pd\n",
        "from tqdm.notebook import tqdm\n",
        "from collections import defaultdict\n",
        "import os\n",
        "tickers = ['AAPL', 'TSLA', 'MSFT']\n",
        "\n",
        "def read_tickers(tickers: tp.List[str]) -> pd.DataFrame:\n",
        "  \"\"\"\n",
        "  Read tickers\n",
        "  \"\"\"\n",
        "  tickers_dict = defaultdict(list)\n",
        "  files_to_parse = [f\"{ticker}.csv.gz\" for ticker in tickers]\n",
        "  for folder, _, __ in tqdm(os.walk('train/nasdaq100/'), desc='Reading stocks'):\n",
        "    for ticker, filename in zip(tickers, files_to_parse):\n",
        "      if os.path.isfile(os.path.join(folder, filename)):\n",
        "        with gzip.open(os.path.join(folder, filename)) as f:\n",
        "          ticker_df = pd.read_csv(f)\n",
        "          tickers_dict[ticker].append(ticker_df)\n",
        "  for ticker in tickers:\n",
        "    tickers_dict[ticker] = pd.concat(tickers_dict[ticker])\n",
        "    df = tickers_dict[ticker].copy()\n",
        "    df['Date'] = pd.to_datetime(df['Date'].astype(str) + ' ' + df['TimeBarStart'], format='%Y%m%d %H:%M:%S')\n",
        "    tickers_dict[ticker] = df.sort_values(by='Date').set_index('Date')[columns]\n",
        "  return tickers_dict\n",
        "\n",
        "def plot_tickers(tickers_dataset: pd.DataFrame, name: str = 'Stock Prices'):\n",
        "  \"\"\"\n",
        "  Plot tickers from tickers dataset\n",
        "  \"\"\"\n",
        "  number_of_plots = len(tickers_dataset.columns)\n",
        "  fig, ax = plt.subplots(number_of_plots, figsize=(15, 10))\n",
        "  fig.suptitle(name)\n",
        "  for idx, ticker in enumerate(tickers_dataset.columns):\n",
        "    if number_of_plots > 1:\n",
        "      axis = ax[idx]\n",
        "    else:\n",
        "      axis = ax\n",
        "    axis.plot(tickers_dataset.index.values.ravel(), tickers_dataset[ticker].values.ravel())\n",
        "    axis.set(ylabel=ticker)\n",
        "  plt.show()\n",
        "\n",
        "def shift_data(tickers_dataset, y_col, days_shift):\n",
        "  \"\"\"\n",
        "  Add to data some lags for given column\n",
        "  \"\"\"\n",
        "  new_dataset = tickers_dataset.copy()\n",
        "  for lag in range(1, days_shift + 1):\n",
        "    new_dataset[f'{y_col}_-{lag}'] = new_dataset[y_col].shift(lag)\n",
        "\n",
        "  return new_dataset"
      ],
      "metadata": {
        "id": "VCT8xlJYxzmz"
      },
      "execution_count": 10,
      "outputs": []
    },
    {
      "cell_type": "code",
      "source": [
        "dict_nasdaq = read_tickers(tickers)"
      ],
      "metadata": {
        "id": "BOuRLON3yinD",
        "colab": {
          "base_uri": "https://localhost:8080/",
          "height": 49,
          "referenced_widgets": [
            "2137f375165c47768c598fc57d90acf5",
            "fd95c43c1117461f9e370579ed73beff",
            "3d657c44dbb74548828092ed27ffa227",
            "bf9c7fae03714eeba7623fa74571a3e2",
            "6605a2ac21334be39aad1e5d6fcda6e1",
            "03e9b6f79f8f435a8acb8ef9899dc395",
            "98aeee85b3574ae696fed7c513b3af95",
            "c0446baf2f554887abadd750f4ae85ad",
            "cf7c16308f87414f938d3ce59e3ced26",
            "bc2353ba4e704c4abae57037c4ab31a8",
            "0e091daaa8194712ae7d1ab71a22d944"
          ]
        },
        "outputId": "c083b492-acc4-4a9f-813b-521ec30f087b"
      },
      "execution_count": 56,
      "outputs": [
        {
          "output_type": "display_data",
          "data": {
            "text/plain": [
              "Reading stocks: 0it [00:00, ?it/s]"
            ],
            "application/vnd.jupyter.widget-view+json": {
              "version_major": 2,
              "version_minor": 0,
              "model_id": "2137f375165c47768c598fc57d90acf5"
            }
          },
          "metadata": {}
        }
      ]
    },
    {
      "cell_type": "code",
      "source": [
        "import matplotlib.pyplot as plt"
      ],
      "metadata": {
        "id": "2mXXbxG0bH0p"
      },
      "execution_count": 12,
      "outputs": []
    },
    {
      "cell_type": "code",
      "source": [
        "plot_tickers(dict_nasdaq['MSFT'])"
      ],
      "metadata": {
        "colab": {
          "base_uri": "https://localhost:8080/",
          "height": 666
        },
        "id": "eu_A5N9YzhLl",
        "outputId": "fcd00b1c-27f9-4cd0-a9d5-0f6d0dc3a8ca"
      },
      "execution_count": 57,
      "outputs": [
        {
          "output_type": "display_data",
          "data": {
            "text/plain": [
              "<Figure size 1080x720 with 10 Axes>"
            ],
            "image/png": "[encoded data removed]"
          },
          "metadata": {}
        }
      ]
    },
    {
      "cell_type": "code",
      "source": [
        "def compute_return_for_k_hours(df: pd.DataFrame, k: int = 0):\n",
        "  column_name = 'Return' + (f'{k}_hours' if k else '')\n",
        "  df[column_name] = df['LastTradePrice'].div(df['FirstTradePrice'].shift(k*60)).sub(1)"
      ],
      "metadata": {
        "id": "Pe-NGSbq1-Mb"
      },
      "execution_count": 58,
      "outputs": []
    },
    {
      "cell_type": "code",
      "source": [
        "compute_return_for_k_hours(dict_nasdaq['MSFT'], 2)"
      ],
      "metadata": {
        "id": "fNAIGSr4N0Zz"
      },
      "execution_count": 59,
      "outputs": []
    },
    {
      "cell_type": "code",
      "source": [
        "for t in tickers:\n",
        "  for k in range(0,24,4):\n",
        "    compute_return_for_k_hours(dict_nasdaq[t], k)"
      ],
      "metadata": {
        "id": "7fw6BB6sTvgL"
      },
      "execution_count": 60,
      "outputs": []
    },
    {
      "cell_type": "markdown",
      "source": [
        "1. Balance of Power:  \n",
        "$ BOP = \\frac{Close_{i} - Open_{i}}{High_{i} - Low{i}} $\n",
        "2. Commodity Channel Index:  \n",
        "$ CCI = \\frac{TypicalPrice-MA}{0.15 \\times MeanDeviation}$\n",
        "3. Money Flow Index:  \n",
        "$ MFI = 100 - \\frac{100}{ 1 + MoneyFlowRatio}$\n",
        "4. Stochastic RSI:  \n",
        "$ StochRSI = \\frac{RSI_{i} - MIN[RSI]_{i}}{MAX[RSI]_{i} - MIN[RSI]_{i}}$  ,  \n",
        "$RSI$ - [Relative Strength index](https://en.wikipedia.org/wiki/Relative_strength_index)\n"
      ],
      "metadata": {
        "id": "zcUJWOblVOBM"
      }
    },
    {
      "cell_type": "code",
      "source": [
        "def compute_stoch(x: pd.DataFrame, \n",
        "                  fastk_period: int = 14, \n",
        "                  slowk_period: int = 3, \n",
        "                  slowk_matype: int = 0, \n",
        "                  slowd_period: int = 3, \n",
        "                  slowd_matype: int = 0):\n",
        "  slowk, slowd = talib.STOCH(x.HighTradePrice.ffill(), x.LowTradePrice.ffill(), x['LastTradePrice'].ffill(), \n",
        "                               fastk_period=fastk_period,\n",
        "                               slowk_period=slowk_period,\n",
        "                               slowk_matype=slowk_matype,\n",
        "                               slowd_period=slowd_period,\n",
        "                               slowd_matype=slowd_matype)\n",
        "  x['slowd'] = slowd\n",
        "  x['slowk'] = slowk\n",
        "\n",
        "def compute_bop(x: pd.DataFrame):\n",
        "  x['BOP'] = talib.BOP(x['FirstTradePrice'],\n",
        "                       x['HighTradePrice'],\n",
        "                       x['LowTradePrice'],\n",
        "                       x['LastTradePrice'])\n",
        "\n",
        "def compute_cci(x: pd.DataFrame):\n",
        "  x['CCI'] = talib.CCI(x['HighTradePrice'],\n",
        "                       x['LowTradePrice'],\n",
        "                       x['LastTradePrice'])\n",
        "  \n",
        "def compute_mfi(x: pd.DataFrame, timeperiod: int = 14):\n",
        "  x['MFI'] = talib.MFI(x['HighTradePrice'],\n",
        "                       x['LowTradePrice'],\n",
        "                       x['LastTradePrice'],\n",
        "                       x['Volume'],\n",
        "                       timeperiod=timeperiod)\n",
        "\n",
        "def compute_wma(x: pd.DataFrame, column: str):\n",
        "  x['WMA_'+column] = talib.WMA(x[column].fillna(method='pad'))"
      ],
      "metadata": {
        "id": "ey_VKsCQVF2v"
      },
      "execution_count": 72,
      "outputs": []
    },
    {
      "cell_type": "code",
      "source": [
        "for t in tickers:\n",
        "  compute_stoch(dict_nasdaq[t])\n",
        "  compute_bop(dict_nasdaq[t])\n",
        "  compute_cci(dict_nasdaq[t])\n",
        "  compute_mfi(dict_nasdaq[t])\n",
        "  compute_wma(dict_nasdaq[t], ('FirstTradePrice'))\n",
        "  compute_wma(dict_nasdaq[t], ('LastTradePrice'))\n",
        "  compute_wma(dict_nasdaq[t], ('VolumeWeightPrice'))\n",
        "  compute_wma(dict_nasdaq[t], ('LowTradePrice'))\n",
        "  compute_wma(dict_nasdaq[t], ('HighTradePrice'))\n"
      ],
      "metadata": {
        "id": "3WaO2ydbYqy5"
      },
      "execution_count": 73,
      "outputs": []
    },
    {
      "cell_type": "code",
      "source": [
        "dict_nasdaq['AAPL'].dropna()"
      ],
      "metadata": {
        "colab": {
          "base_uri": "https://localhost:8080/",
          "height": 854
        },
        "id": "4TovkpVH8Clm",
        "outputId": "c1fcffa3-075b-4ddb-a885-80010c64831d"
      },
      "execution_count": 74,
      "outputs": [
        {
          "output_type": "execute_result",
          "data": {
            "text/plain": [
              "                     FirstTradePrice  FirstTradeSize  LastTradePrice  \\\n",
              "Date                                                                   \n",
              "2015-01-05 09:04:00         108.6500           100.0        108.6500   \n",
              "2015-01-05 10:05:00         107.8801            50.0        107.8365   \n",
              "2015-01-05 10:12:00         107.9799             3.0        107.9000   \n",
              "2015-01-05 10:32:00         107.9000            88.0        107.7500   \n",
              "2015-01-05 10:55:00         107.7301             8.0        107.7000   \n",
              "...                              ...             ...             ...   \n",
              "2017-12-29 17:06:00         169.1500            25.0        169.1500   \n",
              "2017-12-29 17:09:00         169.1500           100.0        169.1500   \n",
              "2017-12-29 17:11:00         169.1500             1.0        169.1500   \n",
              "2017-12-29 17:12:00         169.1400           241.0        169.2000   \n",
              "2017-12-29 17:18:00         169.2200             2.0        169.2200   \n",
              "\n",
              "                     LastTradeSize  VolumeWeightPrice  LowTradePrice  \\\n",
              "Date                                                                   \n",
              "2015-01-05 09:04:00          200.0          108.63292        108.610   \n",
              "2015-01-05 10:05:00          231.0          107.84527        107.770   \n",
              "2015-01-05 10:12:00         1100.0          107.92708        107.820   \n",
              "2015-01-05 10:32:00          100.0          107.82792        107.731   \n",
              "2015-01-05 10:55:00           10.0          107.69065        107.620   \n",
              "...                            ...                ...            ...   \n",
              "2017-12-29 17:06:00            1.0          169.15000        169.150   \n",
              "2017-12-29 17:09:00          100.0          169.15000        169.150   \n",
              "2017-12-29 17:11:00            1.0          169.15000        169.150   \n",
              "2017-12-29 17:12:00            2.0          169.15076        169.140   \n",
              "2017-12-29 17:18:00          100.0          169.22000        169.220   \n",
              "\n",
              "                     LowTradeSize  HighTradePrice  HighTradeSize  Volume  ...  \\\n",
              "Date                                                                      ...   \n",
              "2015-01-05 09:04:00         190.0         108.650          100.0    1711  ...   \n",
              "2015-01-05 10:05:00          96.0         107.885            1.0  128971  ...   \n",
              "2015-01-05 10:12:00          46.0         108.000           50.0  120851  ...   \n",
              "2015-01-05 10:32:00         100.0         107.910          200.0   56523  ...   \n",
              "2015-01-05 10:55:00         100.0         107.770           15.0   47688  ...   \n",
              "...                           ...             ...            ...     ...  ...   \n",
              "2017-12-29 17:06:00          25.0         169.150           25.0      26  ...   \n",
              "2017-12-29 17:09:00         100.0         169.150          100.0     200  ...   \n",
              "2017-12-29 17:11:00           1.0         169.150            1.0       1  ...   \n",
              "2017-12-29 17:12:00         241.0         169.200            2.0     132  ...   \n",
              "2017-12-29 17:18:00           2.0         169.220            2.0     102  ...   \n",
              "\n",
              "                          slowk       BOP         CCI        MFI         WMA  \\\n",
              "Date                                                                           \n",
              "2015-01-05 09:04:00   55.555556  0.000000   57.320099  20.790572  108.662946   \n",
              "2015-01-05 10:05:00   81.361717 -0.379130   97.490934  52.434630  107.898848   \n",
              "2015-01-05 10:12:00   84.229730 -0.443889   53.184533  49.882232  107.898449   \n",
              "2015-01-05 10:32:00   25.000000 -0.837989 -111.938939  51.392737  108.011744   \n",
              "2015-01-05 10:55:00   68.279727 -0.200667   81.377459  60.390182  107.729235   \n",
              "...                         ...       ...         ...        ...         ...   \n",
              "2017-12-29 17:06:00   33.333333  0.000000   28.482003  41.418974  169.170409   \n",
              "2017-12-29 17:09:00   88.888889  0.000000  133.333333  58.899226  169.163032   \n",
              "2017-12-29 17:11:00  100.000000  0.000000  110.975610  39.622095  169.159140   \n",
              "2017-12-29 17:12:00  100.000000  1.000000  301.724138  63.591440  169.160645   \n",
              "2017-12-29 17:18:00   66.666667  0.000000  115.281077  70.830368  169.172538   \n",
              "\n",
              "                     WMA_FirstTradePrice  WMA_LastTradePrice  \\\n",
              "Date                                                           \n",
              "2015-01-05 09:04:00           108.650925          108.647075   \n",
              "2015-01-05 10:05:00           107.817223          107.812958   \n",
              "2015-01-05 10:12:00           107.829358          107.833016   \n",
              "2015-01-05 10:32:00           107.957118          107.943632   \n",
              "2015-01-05 10:55:00           107.641987          107.642154   \n",
              "...                                  ...                 ...   \n",
              "2017-12-29 17:06:00           169.160710          169.154280   \n",
              "2017-12-29 17:09:00           169.154538          169.150882   \n",
              "2017-12-29 17:11:00           169.150860          169.149505   \n",
              "2017-12-29 17:12:00           169.149269          169.152151   \n",
              "2017-12-29 17:18:00           169.158258          169.168903   \n",
              "\n",
              "                     WMA_VolumeWeightPrice  WMA_LowTradePrice  \\\n",
              "Date                                                            \n",
              "2015-01-05 09:04:00             108.647806         108.632000   \n",
              "2015-01-05 10:05:00             107.794888         107.696383   \n",
              "2015-01-05 10:12:00             107.820505         107.737851   \n",
              "2015-01-05 10:32:00             107.957963         107.889439   \n",
              "2015-01-05 10:55:00             107.646957         107.585221   \n",
              "...                                    ...                ...   \n",
              "2017-12-29 17:06:00             169.153607         169.146817   \n",
              "2017-12-29 17:09:00             169.151306         169.144581   \n",
              "2017-12-29 17:11:00             169.149978         169.143290   \n",
              "2017-12-29 17:12:00             169.149518         169.142667   \n",
              "2017-12-29 17:18:00             169.165200         169.155978   \n",
              "\n",
              "                     WMA_HighTradePrice  \n",
              "Date                                     \n",
              "2015-01-05 09:04:00          108.662946  \n",
              "2015-01-05 10:05:00          107.898848  \n",
              "2015-01-05 10:12:00          107.898449  \n",
              "2015-01-05 10:32:00          108.011744  \n",
              "2015-01-05 10:55:00          107.729235  \n",
              "...                                 ...  \n",
              "2017-12-29 17:06:00          169.170409  \n",
              "2017-12-29 17:09:00          169.163032  \n",
              "2017-12-29 17:11:00          169.159140  \n",
              "2017-12-29 17:12:00          169.160645  \n",
              "2017-12-29 17:18:00          169.172538  \n",
              "\n",
              "[63959 rows x 27 columns]"
            ],
            "text/html": [
              "\n",
              "  <div id=\"df-10d0d7a6-8aab-4d93-ae67-0fcfb6774d9c\">\n",
              "    <div class=\"colab-df-container\">\n",
              "      <div>\n",
              "<style scoped>\n",
              "    .dataframe tbody tr th:only-of-type {\n",
              "        vertical-align: middle;\n",
              "    }\n",
              "\n",
              "    .dataframe tbody tr th {\n",
              "        vertical-align: top;\n",
              "    }\n",
              "\n",
              "    .dataframe thead th {\n",
              "        text-align: right;\n",
              "    }\n",
              "</style>\n",
              "<table border=\"1\" class=\"dataframe\">\n",
              "  <thead>\n",
              "    <tr style=\"text-align: right;\">\n",
              "      <th></th>\n",
              "      <th>FirstTradePrice</th>\n",
              "      <th>FirstTradeSize</th>\n",
              "      <th>LastTradePrice</th>\n",
              "      <th>LastTradeSize</th>\n",
              "      <th>VolumeWeightPrice</th>\n",
              "      <th>LowTradePrice</th>\n",
              "      <th>LowTradeSize</th>\n",
              "      <th>HighTradePrice</th>\n",
              "      <th>HighTradeSize</th>\n",
              "      <th>Volume</th>\n",
              "      <th>...</th>\n",
              "      <th>slowk</th>\n",
              "      <th>BOP</th>\n",
              "      <th>CCI</th>\n",
              "      <th>MFI</th>\n",
              "      <th>WMA</th>\n",
              "      <th>WMA_FirstTradePrice</th>\n",
              "      <th>WMA_LastTradePrice</th>\n",
              "      <th>WMA_VolumeWeightPrice</th>\n",
              "      <th>WMA_LowTradePrice</th>\n",
              "      <th>WMA_HighTradePrice</th>\n",
              "    </tr>\n",
              "    <tr>\n",
              "      <th>Date</th>\n",
              "      <th></th>\n",
              "      <th></th>\n",
              "      <th></th>\n",
              "      <th></th>\n",
              "      <th></th>\n",
              "      <th></th>\n",
              "      <th></th>\n",
              "      <th></th>\n",
              "      <th></th>\n",
              "      <th></th>\n",
              "      <th></th>\n",
              "      <th></th>\n",
              "      <th></th>\n",
              "      <th></th>\n",
              "      <th></th>\n",
              "      <th></th>\n",
              "      <th></th>\n",
              "      <th></th>\n",
              "      <th></th>\n",
              "      <th></th>\n",
              "      <th></th>\n",
              "    </tr>\n",
              "  </thead>\n",
              "  <tbody>\n",
              "    <tr>\n",
              "      <th>2015-01-05 09:04:00</th>\n",
              "      <td>108.6500</td>\n",
              "      <td>100.0</td>\n",
              "      <td>108.6500</td>\n",
              "      <td>200.0</td>\n",
              "      <td>108.63292</td>\n",
              "      <td>108.610</td>\n",
              "      <td>190.0</td>\n",
              "      <td>108.650</td>\n",
              "      <td>100.0</td>\n",
              "      <td>1711</td>\n",
              "      <td>...</td>\n",
              "      <td>55.555556</td>\n",
              "      <td>0.000000</td>\n",
              "      <td>57.320099</td>\n",
              "      <td>20.790572</td>\n",
              "      <td>108.662946</td>\n",
              "      <td>108.650925</td>\n",
              "      <td>108.647075</td>\n",
              "      <td>108.647806</td>\n",
              "      <td>108.632000</td>\n",
              "      <td>108.662946</td>\n",
              "    </tr>\n",
              "    <tr>\n",
              "      <th>2015-01-05 10:05:00</th>\n",
              "      <td>107.8801</td>\n",
              "      <td>50.0</td>\n",
              "      <td>107.8365</td>\n",
              "      <td>231.0</td>\n",
              "      <td>107.84527</td>\n",
              "      <td>107.770</td>\n",
              "      <td>96.0</td>\n",
              "      <td>107.885</td>\n",
              "      <td>1.0</td>\n",
              "      <td>128971</td>\n",
              "      <td>...</td>\n",
              "      <td>81.361717</td>\n",
              "      <td>-0.379130</td>\n",
              "      <td>97.490934</td>\n",
              "      <td>52.434630</td>\n",
              "      <td>107.898848</td>\n",
              "      <td>107.817223</td>\n",
              "      <td>107.812958</td>\n",
              "      <td>107.794888</td>\n",
              "      <td>107.696383</td>\n",
              "      <td>107.898848</td>\n",
              "    </tr>\n",
              "    <tr>\n",
              "      <th>2015-01-05 10:12:00</th>\n",
              "      <td>107.9799</td>\n",
              "      <td>3.0</td>\n",
              "      <td>107.9000</td>\n",
              "      <td>1100.0</td>\n",
              "      <td>107.92708</td>\n",
              "      <td>107.820</td>\n",
              "      <td>46.0</td>\n",
              "      <td>108.000</td>\n",
              "      <td>50.0</td>\n",
              "      <td>120851</td>\n",
              "      <td>...</td>\n",
              "      <td>84.229730</td>\n",
              "      <td>-0.443889</td>\n",
              "      <td>53.184533</td>\n",
              "      <td>49.882232</td>\n",
              "      <td>107.898449</td>\n",
              "      <td>107.829358</td>\n",
              "      <td>107.833016</td>\n",
              "      <td>107.820505</td>\n",
              "      <td>107.737851</td>\n",
              "      <td>107.898449</td>\n",
              "    </tr>\n",
              "    <tr>\n",
              "      <th>2015-01-05 10:32:00</th>\n",
              "      <td>107.9000</td>\n",
              "      <td>88.0</td>\n",
              "      <td>107.7500</td>\n",
              "      <td>100.0</td>\n",
              "      <td>107.82792</td>\n",
              "      <td>107.731</td>\n",
              "      <td>100.0</td>\n",
              "      <td>107.910</td>\n",
              "      <td>200.0</td>\n",
              "      <td>56523</td>\n",
              "      <td>...</td>\n",
              "      <td>25.000000</td>\n",
              "      <td>-0.837989</td>\n",
              "      <td>-111.938939</td>\n",
              "      <td>51.392737</td>\n",
              "      <td>108.011744</td>\n",
              "      <td>107.957118</td>\n",
              "      <td>107.943632</td>\n",
              "      <td>107.957963</td>\n",
              "      <td>107.889439</td>\n",
              "      <td>108.011744</td>\n",
              "    </tr>\n",
              "    <tr>\n",
              "      <th>2015-01-05 10:55:00</th>\n",
              "      <td>107.7301</td>\n",
              "      <td>8.0</td>\n",
              "      <td>107.7000</td>\n",
              "      <td>10.0</td>\n",
              "      <td>107.69065</td>\n",
              "      <td>107.620</td>\n",
              "      <td>100.0</td>\n",
              "      <td>107.770</td>\n",
              "      <td>15.0</td>\n",
              "      <td>47688</td>\n",
              "      <td>...</td>\n",
              "      <td>68.279727</td>\n",
              "      <td>-0.200667</td>\n",
              "      <td>81.377459</td>\n",
              "      <td>60.390182</td>\n",
              "      <td>107.729235</td>\n",
              "      <td>107.641987</td>\n",
              "      <td>107.642154</td>\n",
              "      <td>107.646957</td>\n",
              "      <td>107.585221</td>\n",
              "      <td>107.729235</td>\n",
              "    </tr>\n",
              "    <tr>\n",
              "      <th>...</th>\n",
              "      <td>...</td>\n",
              "      <td>...</td>\n",
              "      <td>...</td>\n",
              "      <td>...</td>\n",
              "      <td>...</td>\n",
              "      <td>...</td>\n",
              "      <td>...</td>\n",
              "      <td>...</td>\n",
              "      <td>...</td>\n",
              "      <td>...</td>\n",
              "      <td>...</td>\n",
              "      <td>...</td>\n",
              "      <td>...</td>\n",
              "      <td>...</td>\n",
              "      <td>...</td>\n",
              "      <td>...</td>\n",
              "      <td>...</td>\n",
              "      <td>...</td>\n",
              "      <td>...</td>\n",
              "      <td>...</td>\n",
              "      <td>...</td>\n",
              "    </tr>\n",
              "    <tr>\n",
              "      <th>2017-12-29 17:06:00</th>\n",
              "      <td>169.1500</td>\n",
              "      <td>25.0</td>\n",
              "      <td>169.1500</td>\n",
              "      <td>1.0</td>\n",
              "      <td>169.15000</td>\n",
              "      <td>169.150</td>\n",
              "      <td>25.0</td>\n",
              "      <td>169.150</td>\n",
              "      <td>25.0</td>\n",
              "      <td>26</td>\n",
              "      <td>...</td>\n",
              "      <td>33.333333</td>\n",
              "      <td>0.000000</td>\n",
              "      <td>28.482003</td>\n",
              "      <td>41.418974</td>\n",
              "      <td>169.170409</td>\n",
              "      <td>169.160710</td>\n",
              "      <td>169.154280</td>\n",
              "      <td>169.153607</td>\n",
              "      <td>169.146817</td>\n",
              "      <td>169.170409</td>\n",
              "    </tr>\n",
              "    <tr>\n",
              "      <th>2017-12-29 17:09:00</th>\n",
              "      <td>169.1500</td>\n",
              "      <td>100.0</td>\n",
              "      <td>169.1500</td>\n",
              "      <td>100.0</td>\n",
              "      <td>169.15000</td>\n",
              "      <td>169.150</td>\n",
              "      <td>100.0</td>\n",
              "      <td>169.150</td>\n",
              "      <td>100.0</td>\n",
              "      <td>200</td>\n",
              "      <td>...</td>\n",
              "      <td>88.888889</td>\n",
              "      <td>0.000000</td>\n",
              "      <td>133.333333</td>\n",
              "      <td>58.899226</td>\n",
              "      <td>169.163032</td>\n",
              "      <td>169.154538</td>\n",
              "      <td>169.150882</td>\n",
              "      <td>169.151306</td>\n",
              "      <td>169.144581</td>\n",
              "      <td>169.163032</td>\n",
              "    </tr>\n",
              "    <tr>\n",
              "      <th>2017-12-29 17:11:00</th>\n",
              "      <td>169.1500</td>\n",
              "      <td>1.0</td>\n",
              "      <td>169.1500</td>\n",
              "      <td>1.0</td>\n",
              "      <td>169.15000</td>\n",
              "      <td>169.150</td>\n",
              "      <td>1.0</td>\n",
              "      <td>169.150</td>\n",
              "      <td>1.0</td>\n",
              "      <td>1</td>\n",
              "      <td>...</td>\n",
              "      <td>100.000000</td>\n",
              "      <td>0.000000</td>\n",
              "      <td>110.975610</td>\n",
              "      <td>39.622095</td>\n",
              "      <td>169.159140</td>\n",
              "      <td>169.150860</td>\n",
              "      <td>169.149505</td>\n",
              "      <td>169.149978</td>\n",
              "      <td>169.143290</td>\n",
              "      <td>169.159140</td>\n",
              "    </tr>\n",
              "    <tr>\n",
              "      <th>2017-12-29 17:12:00</th>\n",
              "      <td>169.1400</td>\n",
              "      <td>241.0</td>\n",
              "      <td>169.2000</td>\n",
              "      <td>2.0</td>\n",
              "      <td>169.15076</td>\n",
              "      <td>169.140</td>\n",
              "      <td>241.0</td>\n",
              "      <td>169.200</td>\n",
              "      <td>2.0</td>\n",
              "      <td>132</td>\n",
              "      <td>...</td>\n",
              "      <td>100.000000</td>\n",
              "      <td>1.000000</td>\n",
              "      <td>301.724138</td>\n",
              "      <td>63.591440</td>\n",
              "      <td>169.160645</td>\n",
              "      <td>169.149269</td>\n",
              "      <td>169.152151</td>\n",
              "      <td>169.149518</td>\n",
              "      <td>169.142667</td>\n",
              "      <td>169.160645</td>\n",
              "    </tr>\n",
              "    <tr>\n",
              "      <th>2017-12-29 17:18:00</th>\n",
              "      <td>169.2200</td>\n",
              "      <td>2.0</td>\n",
              "      <td>169.2200</td>\n",
              "      <td>100.0</td>\n",
              "      <td>169.22000</td>\n",
              "      <td>169.220</td>\n",
              "      <td>2.0</td>\n",
              "      <td>169.220</td>\n",
              "      <td>2.0</td>\n",
              "      <td>102</td>\n",
              "      <td>...</td>\n",
              "      <td>66.666667</td>\n",
              "      <td>0.000000</td>\n",
              "      <td>115.281077</td>\n",
              "      <td>70.830368</td>\n",
              "      <td>169.172538</td>\n",
              "      <td>169.158258</td>\n",
              "      <td>169.168903</td>\n",
              "      <td>169.165200</td>\n",
              "      <td>169.155978</td>\n",
              "      <td>169.172538</td>\n",
              "    </tr>\n",
              "  </tbody>\n",
              "</table>\n",
              "<p>63959 rows × 27 columns</p>\n",
              "</div>\n",
              "      <button class=\"colab-df-convert\" onclick=\"convertToInteractive('df-10d0d7a6-8aab-4d93-ae67-0fcfb6774d9c')\"\n",
              "              title=\"Convert this dataframe to an interactive table.\"\n",
              "              style=\"display:none;\">\n",
              "        \n",
              "  <svg xmlns=\"http://www.w3.org/2000/svg\" height=\"24px\"viewBox=\"0 0 24 24\"\n",
              "       width=\"24px\">\n",
              "    <path d=\"M0 0h24v24H0V0z\" fill=\"none\"/>\n",
              "    <path d=\"M18.56 5.44l.94 2.06.94-2.06 2.06-.94-2.06-.94-.94-2.06-.94 2.06-2.06.94zm-11 1L8.5 8.5l.94-2.06 2.06-.94-2.06-.94L8.5 2.5l-.94 2.06-2.06.94zm10 10l.94 2.06.94-2.06 2.06-.94-2.06-.94-.94-2.06-.94 2.06-2.06.94z\"/><path d=\"M17.41 7.96l-1.37-1.37c-.4-.4-.92-.59-1.43-.59-.52 0-1.04.2-1.43.59L10.3 9.45l-7.72 7.72c-.78.78-.78 2.05 0 2.83L4 21.41c.39.39.9.59 1.41.59.51 0 1.02-.2 1.41-.59l7.78-7.78 2.81-2.81c.8-.78.8-2.07 0-2.86zM5.41 20L4 18.59l7.72-7.72 1.47 1.35L5.41 20z\"/>\n",
              "  </svg>\n",
              "      </button>\n",
              "      \n",
              "  <style>\n",
              "    .colab-df-container {\n",
              "      display:flex;\n",
              "      flex-wrap:wrap;\n",
              "      gap: 12px;\n",
              "    }\n",
              "\n",
              "    .colab-df-convert {\n",
              "      background-color: #E8F0FE;\n",
              "      border: none;\n",
              "      border-radius: 50%;\n",
              "      cursor: pointer;\n",
              "      display: none;\n",
              "      fill: #1967D2;\n",
              "      height: 32px;\n",
              "      padding: 0 0 0 0;\n",
              "      width: 32px;\n",
              "    }\n",
              "\n",
              "    .colab-df-convert:hover {\n",
              "      background-color: #E2EBFA;\n",
              "      box-shadow: 0px 1px 2px rgba(60, 64, 67, 0.3), 0px 1px 3px 1px rgba(60, 64, 67, 0.15);\n",
              "      fill: #174EA6;\n",
              "    }\n",
              "\n",
              "    [theme=dark] .colab-df-convert {\n",
              "      background-color: #3B4455;\n",
              "      fill: #D2E3FC;\n",
              "    }\n",
              "\n",
              "    [theme=dark] .colab-df-convert:hover {\n",
              "      background-color: #434B5C;\n",
              "      box-shadow: 0px 1px 3px 1px rgba(0, 0, 0, 0.15);\n",
              "      filter: drop-shadow(0px 1px 2px rgba(0, 0, 0, 0.3));\n",
              "      fill: #FFFFFF;\n",
              "    }\n",
              "  </style>\n",
              "\n",
              "      <script>\n",
              "        const buttonEl =\n",
              "          document.querySelector('#df-10d0d7a6-8aab-4d93-ae67-0fcfb6774d9c button.colab-df-convert');\n",
              "        buttonEl.style.display =\n",
              "          google.colab.kernel.accessAllowed ? 'block' : 'none';\n",
              "\n",
              "        async function convertToInteractive(key) {\n",
              "          const element = document.querySelector('#df-10d0d7a6-8aab-4d93-ae67-0fcfb6774d9c');\n",
              "          const dataTable =\n",
              "            await google.colab.kernel.invokeFunction('convertToInteractive',\n",
              "                                                     [key], {});\n",
              "          if (!dataTable) return;\n",
              "\n",
              "          const docLinkHtml = 'Like what you see? Visit the ' +\n",
              "            '<a target=\"_blank\" href=https://colab.research.google.com/notebooks/data_table.ipynb>data table notebook</a>'\n",
              "            + ' to learn more about interactive tables.';\n",
              "          element.innerHTML = '';\n",
              "          dataTable['output_type'] = 'display_data';\n",
              "          await google.colab.output.renderOutput(dataTable, element);\n",
              "          const docLink = document.createElement('div');\n",
              "          docLink.innerHTML = docLinkHtml;\n",
              "          element.appendChild(docLink);\n",
              "        }\n",
              "      </script>\n",
              "    </div>\n",
              "  </div>\n",
              "  "
            ]
          },
          "metadata": {},
          "execution_count": 74
        }
      ]
    },
    {
      "cell_type": "code",
      "source": [
        "sample = dict_nasdaq['AAPL'].sample(n=30_000)"
      ],
      "metadata": {
        "id": "18VeCYMFEy3Z"
      },
      "execution_count": 62,
      "outputs": []
    },
    {
      "cell_type": "code",
      "source": [
        "fig, axes = plt.subplots(nrows=2, ncols=3, figsize=(20, 15))\n",
        "axes = axes.flatten()\n",
        "returns = ['Return' + (f'{k}_hours' if k else '') for k in range(0,24,4)]\n",
        "for i, feature in enumerate(returns):\n",
        "    sns.distplot(sample[feature], ax=axes[i])\n",
        "    axes[i].set_title(feature.upper())"
      ],
      "metadata": {
        "colab": {
          "base_uri": "https://localhost:8080/",
          "height": 1000
        },
        "id": "SIOqmBSKA1Vg",
        "outputId": "e212311a-a9c1-4971-ed40-589dc329eed7"
      },
      "execution_count": 66,
      "outputs": [
        {
          "output_type": "stream",
          "name": "stderr",
          "text": [
            "<ipython-input-66-207d8ed0a2ce>:5: UserWarning: \n",
            "\n",
            "`distplot` is a deprecated function and will be removed in seaborn v0.14.0.\n",
            "\n",
            "Please adapt your code to use either `displot` (a figure-level function with\n",
            "similar flexibility) or `histplot` (an axes-level function for histograms).\n",
            "\n",
            "For a guide to updating your code to use the new functions, please see\n",
            "https://gist.github.com/mwaskom/de44147ed2974457ad6372750bbe5751\n",
            "\n",
            "  sns.distplot(sample[feature], ax=axes[i])\n",
            "<ipython-input-66-207d8ed0a2ce>:5: UserWarning: \n",
            "\n",
            "`distplot` is a deprecated function and will be removed in seaborn v0.14.0.\n",
            "\n",
            "Please adapt your code to use either `displot` (a figure-level function with\n",
            "similar flexibility) or `histplot` (an axes-level function for histograms).\n",
            "\n",
            "For a guide to updating your code to use the new functions, please see\n",
            "https://gist.github.com/mwaskom/de44147ed2974457ad6372750bbe5751\n",
            "\n",
            "  sns.distplot(sample[feature], ax=axes[i])\n",
            "<ipython-input-66-207d8ed0a2ce>:5: UserWarning: \n",
            "\n",
            "`distplot` is a deprecated function and will be removed in seaborn v0.14.0.\n",
            "\n",
            "Please adapt your code to use either `displot` (a figure-level function with\n",
            "similar flexibility) or `histplot` (an axes-level function for histograms).\n",
            "\n",
            "For a guide to updating your code to use the new functions, please see\n",
            "https://gist.github.com/mwaskom/de44147ed2974457ad6372750bbe5751\n",
            "\n",
            "  sns.distplot(sample[feature], ax=axes[i])\n",
            "<ipython-input-66-207d8ed0a2ce>:5: UserWarning: \n",
            "\n",
            "`distplot` is a deprecated function and will be removed in seaborn v0.14.0.\n",
            "\n",
            "Please adapt your code to use either `displot` (a figure-level function with\n",
            "similar flexibility) or `histplot` (an axes-level function for histograms).\n",
            "\n",
            "For a guide to updating your code to use the new functions, please see\n",
            "https://gist.github.com/mwaskom/de44147ed2974457ad6372750bbe5751\n",
            "\n",
            "  sns.distplot(sample[feature], ax=axes[i])\n",
            "<ipython-input-66-207d8ed0a2ce>:5: UserWarning: \n",
            "\n",
            "`distplot` is a deprecated function and will be removed in seaborn v0.14.0.\n",
            "\n",
            "Please adapt your code to use either `displot` (a figure-level function with\n",
            "similar flexibility) or `histplot` (an axes-level function for histograms).\n",
            "\n",
            "For a guide to updating your code to use the new functions, please see\n",
            "https://gist.github.com/mwaskom/de44147ed2974457ad6372750bbe5751\n",
            "\n",
            "  sns.distplot(sample[feature], ax=axes[i])\n",
            "<ipython-input-66-207d8ed0a2ce>:5: UserWarning: \n",
            "\n",
            "`distplot` is a deprecated function and will be removed in seaborn v0.14.0.\n",
            "\n",
            "Please adapt your code to use either `displot` (a figure-level function with\n",
            "similar flexibility) or `histplot` (an axes-level function for histograms).\n",
            "\n",
            "For a guide to updating your code to use the new functions, please see\n",
            "https://gist.github.com/mwaskom/de44147ed2974457ad6372750bbe5751\n",
            "\n",
            "  sns.distplot(sample[feature], ax=axes[i])\n"
          ]
        },
        {
          "output_type": "display_data",
          "data": {
            "text/plain": [
              "<Figure size 1440x1080 with 6 Axes>"
            ],
            "image/png": "[encoded data removed]"
          },
          "metadata": {}
        }
      ]
    },
    {
      "cell_type": "code",
      "source": [
        "import gc\n",
        "del  dict_nasdaq\n",
        "gc.collect()"
      ],
      "metadata": {
        "colab": {
          "base_uri": "https://localhost:8080/"
        },
        "id": "afAk0fE4JGx3",
        "outputId": "bcf3f51e-c9f4-4ac4-ca41-6e1878c2611f"
      },
      "execution_count": 54,
      "outputs": [
        {
          "output_type": "execute_result",
          "data": {
            "text/plain": [
              "33494"
            ]
          },
          "metadata": {},
          "execution_count": 54
        }
      ]
    },
    {
      "cell_type": "code",
      "source": [
        "! kaggle datasets download -d omermetinn/tweets-about-the-top-companies-from-2015-to-2020"
      ],
      "metadata": {
        "colab": {
          "base_uri": "https://localhost:8080/"
        },
        "id": "WQszMzieuvv6",
        "outputId": "f13548c4-192e-4cec-c012-e17c61d33ab1"
      },
      "execution_count": null,
      "outputs": [
        {
          "output_type": "stream",
          "name": "stdout",
          "text": [
            "Downloading tweets-about-the-top-companies-from-2015-to-2020.zip to /content\n",
            " 95% 265M/278M [00:05<00:00, 32.0MB/s]\n",
            "100% 278M/278M [00:05<00:00, 50.2MB/s]\n"
          ]
        }
      ]
    },
    {
      "cell_type": "code",
      "source": [],
      "metadata": {
        "id": "dWaqa2bswBnE"
      },
      "execution_count": null,
      "outputs": []
    }
  ]
}